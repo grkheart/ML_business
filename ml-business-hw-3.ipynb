{
 "cells": [
  {
   "cell_type": "code",
   "execution_count": 1,
   "id": "a86eb56e",
   "metadata": {
    "_cell_guid": "b1076dfc-b9ad-4769-8c92-a6c4dae69d19",
    "_uuid": "8f2839f25d086af736a60e9eeb907d3b93b6e0e5",
    "execution": {
     "iopub.execute_input": "2022-10-15T11:52:17.958885Z",
     "iopub.status.busy": "2022-10-15T11:52:17.958269Z",
     "iopub.status.idle": "2022-10-15T11:52:17.977922Z",
     "shell.execute_reply": "2022-10-15T11:52:17.976861Z"
    },
    "papermill": {
     "duration": 0.031577,
     "end_time": "2022-10-15T11:52:17.981473",
     "exception": false,
     "start_time": "2022-10-15T11:52:17.949896",
     "status": "completed"
    },
    "tags": []
   },
   "outputs": [
    {
     "name": "stdout",
     "output_type": "stream",
     "text": [
      "/kaggle/input/health-data/train_case2.csv\n"
     ]
    }
   ],
   "source": [
    "# This Python 3 environment comes with many helpful analytics libraries installed\n",
    "# It is defined by the kaggle/python Docker image: https://github.com/kaggle/docker-python\n",
    "# For example, here's several helpful packages to load\n",
    "\n",
    "import numpy as np # linear algebra\n",
    "import pandas as pd # data processing, CSV file I/O (e.g. pd.read_csv)\n",
    "\n",
    "# Input data files are available in the read-only \"../input/\" directory\n",
    "# For example, running this (by clicking run or pressing Shift+Enter) will list all files under the input directory\n",
    "\n",
    "import os\n",
    "for dirname, _, filenames in os.walk('/kaggle/input'):\n",
    "    for filename in filenames:\n",
    "        print(os.path.join(dirname, filename))\n",
    "\n",
    "# You can write up to 20GB to the current directory (/kaggle/working/) that gets preserved as output when you create a version using \"Save & Run All\" \n",
    "# You can also write temporary files to /kaggle/temp/, but they won't be saved outside of the current session"
   ]
  },
  {
   "cell_type": "code",
   "execution_count": 2,
   "id": "fd512834",
   "metadata": {
    "execution": {
     "iopub.execute_input": "2022-10-15T11:52:17.994793Z",
     "iopub.status.busy": "2022-10-15T11:52:17.994093Z",
     "iopub.status.idle": "2022-10-15T11:52:19.377993Z",
     "shell.execute_reply": "2022-10-15T11:52:19.376819Z"
    },
    "papermill": {
     "duration": 1.393511,
     "end_time": "2022-10-15T11:52:19.381086",
     "exception": false,
     "start_time": "2022-10-15T11:52:17.987575",
     "status": "completed"
    },
    "tags": []
   },
   "outputs": [],
   "source": [
    "import numpy as np\n",
    "import pandas as pd\n",
    "from sklearn.model_selection import train_test_split, cross_val_score\n",
    "from sklearn.base import BaseEstimator, TransformerMixin\n",
    "from sklearn.pipeline import Pipeline, make_pipeline, FeatureUnion\n",
    "from sklearn.linear_model import LogisticRegression\n",
    "from sklearn.metrics import precision_recall_curve, roc_curve, roc_auc_score\n",
    "from sklearn.ensemble import RandomForestClassifier\n",
    "from sklearn.preprocessing import StandardScaler\n",
    "\n",
    "import warnings\n",
    "warnings.filterwarnings('ignore')"
   ]
  },
  {
   "cell_type": "code",
   "execution_count": 3,
   "id": "094765af",
   "metadata": {
    "execution": {
     "iopub.execute_input": "2022-10-15T11:52:19.391547Z",
     "iopub.status.busy": "2022-10-15T11:52:19.391024Z",
     "iopub.status.idle": "2022-10-15T11:52:19.569140Z",
     "shell.execute_reply": "2022-10-15T11:52:19.567504Z"
    },
    "papermill": {
     "duration": 0.186169,
     "end_time": "2022-10-15T11:52:19.571678",
     "exception": false,
     "start_time": "2022-10-15T11:52:19.385509",
     "status": "completed"
    },
    "tags": []
   },
   "outputs": [
    {
     "data": {
      "text/html": [
       "<div>\n",
       "<style scoped>\n",
       "    .dataframe tbody tr th:only-of-type {\n",
       "        vertical-align: middle;\n",
       "    }\n",
       "\n",
       "    .dataframe tbody tr th {\n",
       "        vertical-align: top;\n",
       "    }\n",
       "\n",
       "    .dataframe thead th {\n",
       "        text-align: right;\n",
       "    }\n",
       "</style>\n",
       "<table border=\"1\" class=\"dataframe\">\n",
       "  <thead>\n",
       "    <tr style=\"text-align: right;\">\n",
       "      <th></th>\n",
       "      <th>id</th>\n",
       "      <th>age</th>\n",
       "      <th>gender</th>\n",
       "      <th>height</th>\n",
       "      <th>weight</th>\n",
       "      <th>ap_hi</th>\n",
       "      <th>ap_lo</th>\n",
       "      <th>cholesterol</th>\n",
       "      <th>gluc</th>\n",
       "      <th>smoke</th>\n",
       "      <th>alco</th>\n",
       "      <th>active</th>\n",
       "      <th>cardio</th>\n",
       "    </tr>\n",
       "  </thead>\n",
       "  <tbody>\n",
       "    <tr>\n",
       "      <th>0</th>\n",
       "      <td>0</td>\n",
       "      <td>18393</td>\n",
       "      <td>2</td>\n",
       "      <td>168</td>\n",
       "      <td>62.0</td>\n",
       "      <td>110</td>\n",
       "      <td>80</td>\n",
       "      <td>1</td>\n",
       "      <td>1</td>\n",
       "      <td>0</td>\n",
       "      <td>0</td>\n",
       "      <td>1</td>\n",
       "      <td>0</td>\n",
       "    </tr>\n",
       "    <tr>\n",
       "      <th>1</th>\n",
       "      <td>1</td>\n",
       "      <td>20228</td>\n",
       "      <td>1</td>\n",
       "      <td>156</td>\n",
       "      <td>85.0</td>\n",
       "      <td>140</td>\n",
       "      <td>90</td>\n",
       "      <td>3</td>\n",
       "      <td>1</td>\n",
       "      <td>0</td>\n",
       "      <td>0</td>\n",
       "      <td>1</td>\n",
       "      <td>1</td>\n",
       "    </tr>\n",
       "    <tr>\n",
       "      <th>2</th>\n",
       "      <td>2</td>\n",
       "      <td>18857</td>\n",
       "      <td>1</td>\n",
       "      <td>165</td>\n",
       "      <td>64.0</td>\n",
       "      <td>130</td>\n",
       "      <td>70</td>\n",
       "      <td>3</td>\n",
       "      <td>1</td>\n",
       "      <td>0</td>\n",
       "      <td>0</td>\n",
       "      <td>0</td>\n",
       "      <td>1</td>\n",
       "    </tr>\n",
       "    <tr>\n",
       "      <th>3</th>\n",
       "      <td>3</td>\n",
       "      <td>17623</td>\n",
       "      <td>2</td>\n",
       "      <td>169</td>\n",
       "      <td>82.0</td>\n",
       "      <td>150</td>\n",
       "      <td>100</td>\n",
       "      <td>1</td>\n",
       "      <td>1</td>\n",
       "      <td>0</td>\n",
       "      <td>0</td>\n",
       "      <td>1</td>\n",
       "      <td>1</td>\n",
       "    </tr>\n",
       "    <tr>\n",
       "      <th>4</th>\n",
       "      <td>4</td>\n",
       "      <td>17474</td>\n",
       "      <td>1</td>\n",
       "      <td>156</td>\n",
       "      <td>56.0</td>\n",
       "      <td>100</td>\n",
       "      <td>60</td>\n",
       "      <td>1</td>\n",
       "      <td>1</td>\n",
       "      <td>0</td>\n",
       "      <td>0</td>\n",
       "      <td>0</td>\n",
       "      <td>0</td>\n",
       "    </tr>\n",
       "  </tbody>\n",
       "</table>\n",
       "</div>"
      ],
      "text/plain": [
       "   id    age  gender  height  weight  ap_hi  ap_lo  cholesterol  gluc  smoke  \\\n",
       "0   0  18393       2     168    62.0    110     80            1     1      0   \n",
       "1   1  20228       1     156    85.0    140     90            3     1      0   \n",
       "2   2  18857       1     165    64.0    130     70            3     1      0   \n",
       "3   3  17623       2     169    82.0    150    100            1     1      0   \n",
       "4   4  17474       1     156    56.0    100     60            1     1      0   \n",
       "\n",
       "   alco  active  cardio  \n",
       "0     0       1       0  \n",
       "1     0       1       1  \n",
       "2     0       0       1  \n",
       "3     0       1       1  \n",
       "4     0       0       0  "
      ]
     },
     "execution_count": 3,
     "metadata": {},
     "output_type": "execute_result"
    }
   ],
   "source": [
    "df = pd.read_csv('../input/health-data/train_case2.csv', ';')\n",
    "df.head(5)"
   ]
  },
  {
   "cell_type": "code",
   "execution_count": 4,
   "id": "22fca939",
   "metadata": {
    "execution": {
     "iopub.execute_input": "2022-10-15T11:52:19.582428Z",
     "iopub.status.busy": "2022-10-15T11:52:19.582018Z",
     "iopub.status.idle": "2022-10-15T11:52:19.598572Z",
     "shell.execute_reply": "2022-10-15T11:52:19.597282Z"
    },
    "papermill": {
     "duration": 0.024917,
     "end_time": "2022-10-15T11:52:19.601080",
     "exception": false,
     "start_time": "2022-10-15T11:52:19.576163",
     "status": "completed"
    },
    "tags": []
   },
   "outputs": [],
   "source": [
    "class ColumnSelector(BaseEstimator, TransformerMixin):\n",
    "    \"\"\"\n",
    "    Transformer to select a single column from the data frame to perform additional transformations on\n",
    "    \"\"\"\n",
    "    def __init__(self, key):\n",
    "        self.key = key\n",
    "\n",
    "    def fit(self, X, y=None):\n",
    "        return self\n",
    "\n",
    "    def transform(self, X):\n",
    "        return X[self.key]\n",
    "    \n",
    "class NumberSelector(BaseEstimator, TransformerMixin):\n",
    "    \"\"\"\n",
    "    Transformer to select a single column from the data frame to perform additional transformations on\n",
    "    Use on numeric columns in the data\n",
    "    \"\"\"\n",
    "    def __init__(self, key):\n",
    "        self.key = key\n",
    "\n",
    "    def fit(self, X, y=None):\n",
    "        return self\n",
    "\n",
    "    def transform(self, X):\n",
    "        return X[[self.key]]\n",
    "    \n",
    "class OHEEncoder(BaseEstimator, TransformerMixin):\n",
    "    def __init__(self, key):\n",
    "        self.key = key\n",
    "        self.columns = []\n",
    "\n",
    "    def fit(self, X, y=None):\n",
    "        self.columns = [col for col in pd.get_dummies(X, prefix=self.key).columns]\n",
    "        return self\n",
    "\n",
    "    def transform(self, X):\n",
    "        X = pd.get_dummies(X, prefix=self.key)\n",
    "        test_columns = [col for col in X.columns]\n",
    "        for col_ in test_columns:\n",
    "            if col_ not in self.columns:\n",
    "                X[col_] = 0\n",
    "        return X[self.columns]\n",
    "\n",
    "continuos_cols = ['age', 'height', 'weight', 'ap_hi', 'ap_lo']\n",
    "cat_cols = ['gender', 'cholesterol']\n",
    "base_cols = ['gluc', 'smoke', 'alco', 'active']\n",
    "\n",
    "continuos_transformers = []\n",
    "cat_transformers = []\n",
    "base_transformers = []\n",
    "\n",
    "for cont_col in continuos_cols:\n",
    "    transfomer =  Pipeline([\n",
    "                ('selector', NumberSelector(key=cont_col)),\n",
    "                ('standard', StandardScaler())\n",
    "            ])\n",
    "    continuos_transformers.append((cont_col, transfomer))\n",
    "    \n",
    "for cat_col in cat_cols:\n",
    "    cat_transformer = Pipeline([\n",
    "                ('selector', ColumnSelector(key=cat_col)),\n",
    "                ('ohe', OHEEncoder(key=cat_col))\n",
    "            ])\n",
    "    cat_transformers.append((cat_col, cat_transformer))\n",
    "    \n",
    "for base_col in base_cols:\n",
    "    base_transformer = Pipeline([\n",
    "                ('selector', NumberSelector(key=base_col))\n",
    "            ])\n",
    "    base_transformers.append((base_col, base_transformer))"
   ]
  },
  {
   "cell_type": "code",
   "execution_count": 5,
   "id": "a55005e1",
   "metadata": {
    "execution": {
     "iopub.execute_input": "2022-10-15T11:52:19.612530Z",
     "iopub.status.busy": "2022-10-15T11:52:19.612148Z",
     "iopub.status.idle": "2022-10-15T11:52:19.698249Z",
     "shell.execute_reply": "2022-10-15T11:52:19.696677Z"
    },
    "papermill": {
     "duration": 0.095511,
     "end_time": "2022-10-15T11:52:19.701399",
     "exception": false,
     "start_time": "2022-10-15T11:52:19.605888",
     "status": "completed"
    },
    "tags": []
   },
   "outputs": [
    {
     "data": {
      "text/plain": [
       "array([[-1.12257477, -1.5034125 ,  0.81804974, ...,  0.        ,\n",
       "         0.        ,  0.        ],\n",
       "       [-1.07506066,  0.56366794,  0.6100762 , ...,  0.        ,\n",
       "         0.        ,  1.        ],\n",
       "       [ 1.29739608,  0.07729607,  0.74872523, ...,  0.        ,\n",
       "         0.        ,  1.        ],\n",
       "       ...,\n",
       "       [ 0.37026176, -0.7738547 , -0.84573862, ...,  0.        ,\n",
       "         0.        ,  0.        ],\n",
       "       [ 1.50532108, -0.4090758 , -0.15249347, ...,  0.        ,\n",
       "         0.        ,  1.        ],\n",
       "       [-0.46549928,  0.19888904, -0.15249347, ...,  0.        ,\n",
       "         0.        ,  1.        ]])"
      ]
     },
     "execution_count": 5,
     "metadata": {},
     "output_type": "execute_result"
    }
   ],
   "source": [
    "X_train, X_test, y_train, y_test = train_test_split(df.drop('cardio', 1), df['cardio'], random_state=41)\n",
    "feats = FeatureUnion(continuos_transformers + cat_transformers + base_transformers)\n",
    "feature_processing = Pipeline([('feats', feats)])\n",
    "feature_processing.fit_transform(X_train)"
   ]
  },
  {
   "cell_type": "markdown",
   "id": "dab16f4a",
   "metadata": {
    "papermill": {
     "duration": 0.004726,
     "end_time": "2022-10-15T11:52:19.711170",
     "exception": false,
     "start_time": "2022-10-15T11:52:19.706444",
     "status": "completed"
    },
    "tags": []
   },
   "source": [
    "### Логистическая регрессия (LogisticRegression)"
   ]
  },
  {
   "cell_type": "code",
   "execution_count": 6,
   "id": "4283317f",
   "metadata": {
    "execution": {
     "iopub.execute_input": "2022-10-15T11:52:19.723776Z",
     "iopub.status.busy": "2022-10-15T11:52:19.723300Z",
     "iopub.status.idle": "2022-10-15T11:52:27.559017Z",
     "shell.execute_reply": "2022-10-15T11:52:27.556694Z"
    },
    "papermill": {
     "duration": 7.847596,
     "end_time": "2022-10-15T11:52:27.563982",
     "exception": false,
     "start_time": "2022-10-15T11:52:19.716386",
     "status": "completed"
    },
    "tags": []
   },
   "outputs": [
    {
     "name": "stdout",
     "output_type": "stream",
     "text": [
      "CV score is 0.7813846794997775+-0.008137519654598194\n"
     ]
    }
   ],
   "source": [
    "classifier = Pipeline([\n",
    "    ('features',feats),\n",
    "    ('classifier', LogisticRegression(random_state=41)),\n",
    "])\n",
    "\n",
    "cv_scores = cross_val_score(classifier, X_train, y_train, cv=16, scoring='roc_auc')\n",
    "cv_score = np.mean(cv_scores)\n",
    "cv_score_std = np.std(cv_scores)\n",
    "print('CV score is {}+-{}'.format(cv_score, cv_score_std))\n",
    "\n",
    "classifier.fit(X_train, y_train)\n",
    "y_score = classifier.predict_proba(X_test)[:, 1]"
   ]
  },
  {
   "cell_type": "code",
   "execution_count": 7,
   "id": "33e8d425",
   "metadata": {
    "execution": {
     "iopub.execute_input": "2022-10-15T11:52:27.593230Z",
     "iopub.status.busy": "2022-10-15T11:52:27.592447Z",
     "iopub.status.idle": "2022-10-15T11:52:27.691166Z",
     "shell.execute_reply": "2022-10-15T11:52:27.689221Z"
    },
    "papermill": {
     "duration": 0.121286,
     "end_time": "2022-10-15T11:52:27.698159",
     "exception": false,
     "start_time": "2022-10-15T11:52:27.576873",
     "status": "completed"
    },
    "tags": []
   },
   "outputs": [
    {
     "data": {
      "text/plain": [
       "0.7882648193658791"
      ]
     },
     "execution_count": 7,
     "metadata": {},
     "output_type": "execute_result"
    }
   ],
   "source": [
    "b = 1\n",
    "precision, recall, thresholds = precision_recall_curve(y_test.values, y_score)\n",
    "fscore = (1 + b ** 2) * (precision * recall) / (b ** 2 * precision + recall)\n",
    "ix = np.argmax(fscore)\n",
    "precision_log, recall_log, fscore_log = precision[ix], recall[ix], fscore[ix]\n",
    "\n",
    "roc_auc_score_log = roc_auc_score(y_true=y_test, y_score=classifier.predict_proba(X_test)[:,1])\n",
    "roc_auc_score_log"
   ]
  },
  {
   "cell_type": "markdown",
   "id": "da88c22e",
   "metadata": {
    "papermill": {
     "duration": 0.013809,
     "end_time": "2022-10-15T11:52:27.727049",
     "exception": false,
     "start_time": "2022-10-15T11:52:27.713240",
     "status": "completed"
    },
    "tags": []
   },
   "source": [
    "### Случайный лес (RandomForestClassifier)"
   ]
  },
  {
   "cell_type": "code",
   "execution_count": 8,
   "id": "1878fe1c",
   "metadata": {
    "execution": {
     "iopub.execute_input": "2022-10-15T11:52:27.757996Z",
     "iopub.status.busy": "2022-10-15T11:52:27.757215Z",
     "iopub.status.idle": "2022-10-15T11:54:53.449023Z",
     "shell.execute_reply": "2022-10-15T11:54:53.447548Z"
    },
    "papermill": {
     "duration": 145.711406,
     "end_time": "2022-10-15T11:54:53.452665",
     "exception": false,
     "start_time": "2022-10-15T11:52:27.741259",
     "status": "completed"
    },
    "tags": []
   },
   "outputs": [
    {
     "name": "stdout",
     "output_type": "stream",
     "text": [
      "CV score is 0.7733864647187316+-0.00820357924439192\n"
     ]
    }
   ],
   "source": [
    "classifier = Pipeline([\n",
    "    ('features',feats),\n",
    "    ('classifier', RandomForestClassifier(random_state=41)),\n",
    "])\n",
    "\n",
    "cv_scores = cross_val_score(classifier, X_train, y_train, cv=16, scoring='roc_auc')\n",
    "cv_score = np.mean(cv_scores)\n",
    "cv_score_std = np.std(cv_scores)\n",
    "print('CV score is {}+-{}'.format(cv_score, cv_score_std))\n",
    "\n",
    "classifier.fit(X_train, y_train)\n",
    "y_score = classifier.predict_proba(X_test)[:, 1]"
   ]
  },
  {
   "cell_type": "code",
   "execution_count": 9,
   "id": "e93f51c0",
   "metadata": {
    "execution": {
     "iopub.execute_input": "2022-10-15T11:54:53.464817Z",
     "iopub.status.busy": "2022-10-15T11:54:53.464381Z",
     "iopub.status.idle": "2022-10-15T11:54:54.222987Z",
     "shell.execute_reply": "2022-10-15T11:54:54.221384Z"
    },
    "papermill": {
     "duration": 0.768111,
     "end_time": "2022-10-15T11:54:54.226178",
     "exception": false,
     "start_time": "2022-10-15T11:54:53.458067",
     "status": "completed"
    },
    "tags": []
   },
   "outputs": [
    {
     "data": {
      "text/plain": [
       "0.7726476116194899"
      ]
     },
     "execution_count": 9,
     "metadata": {},
     "output_type": "execute_result"
    }
   ],
   "source": [
    "b = 1\n",
    "precision, recall, thresholds = precision_recall_curve(y_test.values, y_score)\n",
    "fscore = (1 + b ** 2) * (precision * recall) / (b ** 2 * precision + recall)\n",
    "ix = np.argmax(fscore)\n",
    "precision_rf, recall_rf, fscore_rf = precision[ix], recall[ix], fscore[ix]\n",
    "\n",
    "roc_auc_score_rf = roc_auc_score(y_true=y_test, y_score=classifier.predict_proba(X_test)[:,1])\n",
    "roc_auc_score_rf"
   ]
  },
  {
   "cell_type": "markdown",
   "id": "06c4bd4c",
   "metadata": {
    "papermill": {
     "duration": 0.004738,
     "end_time": "2022-10-15T11:54:54.236193",
     "exception": false,
     "start_time": "2022-10-15T11:54:54.231455",
     "status": "completed"
    },
    "tags": []
   },
   "source": [
    "### Сравнение эффективности моделей"
   ]
  },
  {
   "cell_type": "code",
   "execution_count": 10,
   "id": "42046a61",
   "metadata": {
    "execution": {
     "iopub.execute_input": "2022-10-15T11:54:54.248003Z",
     "iopub.status.busy": "2022-10-15T11:54:54.247570Z",
     "iopub.status.idle": "2022-10-15T11:54:54.263179Z",
     "shell.execute_reply": "2022-10-15T11:54:54.261999Z"
    },
    "papermill": {
     "duration": 0.024422,
     "end_time": "2022-10-15T11:54:54.265666",
     "exception": false,
     "start_time": "2022-10-15T11:54:54.241244",
     "status": "completed"
    },
    "tags": []
   },
   "outputs": [
    {
     "data": {
      "text/html": [
       "<div>\n",
       "<style scoped>\n",
       "    .dataframe tbody tr th:only-of-type {\n",
       "        vertical-align: middle;\n",
       "    }\n",
       "\n",
       "    .dataframe tbody tr th {\n",
       "        vertical-align: top;\n",
       "    }\n",
       "\n",
       "    .dataframe thead th {\n",
       "        text-align: right;\n",
       "    }\n",
       "</style>\n",
       "<table border=\"1\" class=\"dataframe\">\n",
       "  <thead>\n",
       "    <tr style=\"text-align: right;\">\n",
       "      <th></th>\n",
       "      <th>0</th>\n",
       "      <th>1</th>\n",
       "      <th>2</th>\n",
       "      <th>3</th>\n",
       "    </tr>\n",
       "  </thead>\n",
       "  <tbody>\n",
       "    <tr>\n",
       "      <th>Metrics</th>\n",
       "      <td>Precision</td>\n",
       "      <td>Recall</td>\n",
       "      <td>F-score</td>\n",
       "      <td>Roc_auc</td>\n",
       "    </tr>\n",
       "    <tr>\n",
       "      <th>LogisticRegression</th>\n",
       "      <td>0.660509</td>\n",
       "      <td>0.831453</td>\n",
       "      <td>0.736188</td>\n",
       "      <td>0.788265</td>\n",
       "    </tr>\n",
       "    <tr>\n",
       "      <th>RandomForestClassifier</th>\n",
       "      <td>0.644366</td>\n",
       "      <td>0.821667</td>\n",
       "      <td>0.722295</td>\n",
       "      <td>0.772648</td>\n",
       "    </tr>\n",
       "  </tbody>\n",
       "</table>\n",
       "</div>"
      ],
      "text/plain": [
       "                                0         1         2         3\n",
       "Metrics                 Precision    Recall   F-score   Roc_auc\n",
       "LogisticRegression       0.660509  0.831453  0.736188  0.788265\n",
       "RandomForestClassifier   0.644366  0.821667  0.722295  0.772648"
      ]
     },
     "execution_count": 10,
     "metadata": {},
     "output_type": "execute_result"
    }
   ],
   "source": [
    "summary = pd.DataFrame(data = {'Metrics' : ['Precision', 'Recall', 'F-score', 'Roc_auc'],\n",
    "                               'LogisticRegression' : [precision_log, recall_log, fscore_log, roc_auc_score_log],\n",
    "                               'RandomForestClassifier': [precision_rf, recall_rf, fscore_rf, roc_auc_score_rf]},\n",
    "                               dtype = np.float).T\n",
    "summary"
   ]
  },
  {
   "cell_type": "markdown",
   "id": "7ae5f79e",
   "metadata": {
    "papermill": {
     "duration": 0.005082,
     "end_time": "2022-10-15T11:54:54.278389",
     "exception": false,
     "start_time": "2022-10-15T11:54:54.273307",
     "status": "completed"
    },
    "tags": []
   },
   "source": [
    "В случае с представленными данными логистическая регрессия работает намного быстрее и показывает лучшие результаты по всем метрикам."
   ]
  }
 ],
 "metadata": {
  "kernelspec": {
   "display_name": "Python 3",
   "language": "python",
   "name": "python3"
  },
  "language_info": {
   "codemirror_mode": {
    "name": "ipython",
    "version": 3
   },
   "file_extension": ".py",
   "mimetype": "text/x-python",
   "name": "python",
   "nbconvert_exporter": "python",
   "pygments_lexer": "ipython3",
   "version": "3.7.12"
  },
  "papermill": {
   "default_parameters": {},
   "duration": 167.802663,
   "end_time": "2022-10-15T11:54:55.209867",
   "environment_variables": {},
   "exception": null,
   "input_path": "__notebook__.ipynb",
   "output_path": "__notebook__.ipynb",
   "parameters": {},
   "start_time": "2022-10-15T11:52:07.407204",
   "version": "2.3.4"
  }
 },
 "nbformat": 4,
 "nbformat_minor": 5
}
