{
 "cells": [
  {
   "cell_type": "code",
   "execution_count": 1,
   "id": "033fea71",
   "metadata": {
    "_cell_guid": "b1076dfc-b9ad-4769-8c92-a6c4dae69d19",
    "_uuid": "8f2839f25d086af736a60e9eeb907d3b93b6e0e5",
    "execution": {
     "iopub.execute_input": "2022-10-24T08:45:51.841893Z",
     "iopub.status.busy": "2022-10-24T08:45:51.841256Z",
     "iopub.status.idle": "2022-10-24T08:45:51.865094Z",
     "shell.execute_reply": "2022-10-24T08:45:51.864231Z"
    },
    "papermill": {
     "duration": 0.037545,
     "end_time": "2022-10-24T08:45:51.867943",
     "exception": false,
     "start_time": "2022-10-24T08:45:51.830398",
     "status": "completed"
    },
    "tags": []
   },
   "outputs": [
    {
     "name": "stdout",
     "output_type": "stream",
     "text": [
      "/kaggle/input/churn-data/churn_data.csv\n"
     ]
    }
   ],
   "source": [
    "# This Python 3 environment comes with many helpful analytics libraries installed\n",
    "# It is defined by the kaggle/python Docker image: https://github.com/kaggle/docker-python\n",
    "# For example, here's several helpful packages to load\n",
    "\n",
    "import numpy as np # linear algebra\n",
    "import pandas as pd # data processing, CSV file I/O (e.g. pd.read_csv)\n",
    "\n",
    "# Input data files are available in the read-only \"../input/\" directory\n",
    "# For example, running this (by clicking run or pressing Shift+Enter) will list all files under the input directory\n",
    "\n",
    "import os\n",
    "for dirname, _, filenames in os.walk('/kaggle/input'):\n",
    "    for filename in filenames:\n",
    "        print(os.path.join(dirname, filename))\n",
    "\n",
    "# You can write up to 20GB to the current directory (/kaggle/working/) that gets preserved as output when you create a version using \"Save & Run All\" \n",
    "# You can also write temporary files to /kaggle/temp/, but they won't be saved outside of the current session"
   ]
  },
  {
   "cell_type": "code",
   "execution_count": 2,
   "id": "c4024e35",
   "metadata": {
    "execution": {
     "iopub.execute_input": "2022-10-24T08:45:51.886763Z",
     "iopub.status.busy": "2022-10-24T08:45:51.885532Z",
     "iopub.status.idle": "2022-10-24T08:45:53.095977Z",
     "shell.execute_reply": "2022-10-24T08:45:53.094650Z"
    },
    "papermill": {
     "duration": 1.222823,
     "end_time": "2022-10-24T08:45:53.098884",
     "exception": false,
     "start_time": "2022-10-24T08:45:51.876061",
     "status": "completed"
    },
    "tags": []
   },
   "outputs": [],
   "source": [
    "import pandas as pd\n",
    "import numpy as np\n",
    "\n",
    "from sklearn.pipeline import Pipeline, FeatureUnion\n",
    "from sklearn.base import BaseEstimator, TransformerMixin\n",
    "from sklearn.linear_model import LogisticRegression\n",
    "from sklearn.model_selection import train_test_split\n",
    "from sklearn.preprocessing import StandardScaler\n",
    "from sklearn.ensemble import GradientBoostingClassifier\n",
    "from sklearn.metrics import precision_recall_curve, confusion_matrix"
   ]
  },
  {
   "cell_type": "code",
   "execution_count": 3,
   "id": "3d5407bc",
   "metadata": {
    "execution": {
     "iopub.execute_input": "2022-10-24T08:45:53.115837Z",
     "iopub.status.busy": "2022-10-24T08:45:53.115443Z",
     "iopub.status.idle": "2022-10-24T08:45:53.185119Z",
     "shell.execute_reply": "2022-10-24T08:45:53.183909Z"
    },
    "papermill": {
     "duration": 0.080911,
     "end_time": "2022-10-24T08:45:53.187519",
     "exception": false,
     "start_time": "2022-10-24T08:45:53.106608",
     "status": "completed"
    },
    "tags": []
   },
   "outputs": [
    {
     "data": {
      "text/html": [
       "<div>\n",
       "<style scoped>\n",
       "    .dataframe tbody tr th:only-of-type {\n",
       "        vertical-align: middle;\n",
       "    }\n",
       "\n",
       "    .dataframe tbody tr th {\n",
       "        vertical-align: top;\n",
       "    }\n",
       "\n",
       "    .dataframe thead th {\n",
       "        text-align: right;\n",
       "    }\n",
       "</style>\n",
       "<table border=\"1\" class=\"dataframe\">\n",
       "  <thead>\n",
       "    <tr style=\"text-align: right;\">\n",
       "      <th></th>\n",
       "      <th>RowNumber</th>\n",
       "      <th>CustomerId</th>\n",
       "      <th>Surname</th>\n",
       "      <th>CreditScore</th>\n",
       "      <th>Geography</th>\n",
       "      <th>Gender</th>\n",
       "      <th>Age</th>\n",
       "      <th>Tenure</th>\n",
       "      <th>Balance</th>\n",
       "      <th>NumOfProducts</th>\n",
       "      <th>HasCrCard</th>\n",
       "      <th>IsActiveMember</th>\n",
       "      <th>EstimatedSalary</th>\n",
       "      <th>Exited</th>\n",
       "    </tr>\n",
       "  </thead>\n",
       "  <tbody>\n",
       "    <tr>\n",
       "      <th>0</th>\n",
       "      <td>1</td>\n",
       "      <td>15634602</td>\n",
       "      <td>Hargrave</td>\n",
       "      <td>619</td>\n",
       "      <td>France</td>\n",
       "      <td>Female</td>\n",
       "      <td>42</td>\n",
       "      <td>2</td>\n",
       "      <td>0.00</td>\n",
       "      <td>1</td>\n",
       "      <td>1</td>\n",
       "      <td>1</td>\n",
       "      <td>101348.88</td>\n",
       "      <td>1</td>\n",
       "    </tr>\n",
       "    <tr>\n",
       "      <th>1</th>\n",
       "      <td>2</td>\n",
       "      <td>15647311</td>\n",
       "      <td>Hill</td>\n",
       "      <td>608</td>\n",
       "      <td>Spain</td>\n",
       "      <td>Female</td>\n",
       "      <td>41</td>\n",
       "      <td>1</td>\n",
       "      <td>83807.86</td>\n",
       "      <td>1</td>\n",
       "      <td>0</td>\n",
       "      <td>1</td>\n",
       "      <td>112542.58</td>\n",
       "      <td>0</td>\n",
       "    </tr>\n",
       "    <tr>\n",
       "      <th>2</th>\n",
       "      <td>3</td>\n",
       "      <td>15619304</td>\n",
       "      <td>Onio</td>\n",
       "      <td>502</td>\n",
       "      <td>France</td>\n",
       "      <td>Female</td>\n",
       "      <td>42</td>\n",
       "      <td>8</td>\n",
       "      <td>159660.80</td>\n",
       "      <td>3</td>\n",
       "      <td>1</td>\n",
       "      <td>0</td>\n",
       "      <td>113931.57</td>\n",
       "      <td>1</td>\n",
       "    </tr>\n",
       "    <tr>\n",
       "      <th>3</th>\n",
       "      <td>4</td>\n",
       "      <td>15701354</td>\n",
       "      <td>Boni</td>\n",
       "      <td>699</td>\n",
       "      <td>France</td>\n",
       "      <td>Female</td>\n",
       "      <td>39</td>\n",
       "      <td>1</td>\n",
       "      <td>0.00</td>\n",
       "      <td>2</td>\n",
       "      <td>0</td>\n",
       "      <td>0</td>\n",
       "      <td>93826.63</td>\n",
       "      <td>0</td>\n",
       "    </tr>\n",
       "    <tr>\n",
       "      <th>4</th>\n",
       "      <td>5</td>\n",
       "      <td>15737888</td>\n",
       "      <td>Mitchell</td>\n",
       "      <td>850</td>\n",
       "      <td>Spain</td>\n",
       "      <td>Female</td>\n",
       "      <td>43</td>\n",
       "      <td>2</td>\n",
       "      <td>125510.82</td>\n",
       "      <td>1</td>\n",
       "      <td>1</td>\n",
       "      <td>1</td>\n",
       "      <td>79084.10</td>\n",
       "      <td>0</td>\n",
       "    </tr>\n",
       "  </tbody>\n",
       "</table>\n",
       "</div>"
      ],
      "text/plain": [
       "   RowNumber  CustomerId   Surname  CreditScore Geography  Gender  Age  \\\n",
       "0          1    15634602  Hargrave          619    France  Female   42   \n",
       "1          2    15647311      Hill          608     Spain  Female   41   \n",
       "2          3    15619304      Onio          502    France  Female   42   \n",
       "3          4    15701354      Boni          699    France  Female   39   \n",
       "4          5    15737888  Mitchell          850     Spain  Female   43   \n",
       "\n",
       "   Tenure    Balance  NumOfProducts  HasCrCard  IsActiveMember  \\\n",
       "0       2       0.00              1          1               1   \n",
       "1       1   83807.86              1          0               1   \n",
       "2       8  159660.80              3          1               0   \n",
       "3       1       0.00              2          0               0   \n",
       "4       2  125510.82              1          1               1   \n",
       "\n",
       "   EstimatedSalary  Exited  \n",
       "0        101348.88       1  \n",
       "1        112542.58       0  \n",
       "2        113931.57       1  \n",
       "3         93826.63       0  \n",
       "4         79084.10       0  "
      ]
     },
     "execution_count": 3,
     "metadata": {},
     "output_type": "execute_result"
    }
   ],
   "source": [
    "data = pd.read_csv('../input/churn-data/churn_data.csv')\n",
    "data.head(5)"
   ]
  },
  {
   "cell_type": "code",
   "execution_count": 4,
   "id": "e467c9dc",
   "metadata": {
    "execution": {
     "iopub.execute_input": "2022-10-24T08:45:53.205861Z",
     "iopub.status.busy": "2022-10-24T08:45:53.205104Z",
     "iopub.status.idle": "2022-10-24T08:45:53.217524Z",
     "shell.execute_reply": "2022-10-24T08:45:53.216761Z"
    },
    "papermill": {
     "duration": 0.023905,
     "end_time": "2022-10-24T08:45:53.219547",
     "exception": false,
     "start_time": "2022-10-24T08:45:53.195642",
     "status": "completed"
    },
    "tags": []
   },
   "outputs": [
    {
     "data": {
      "text/plain": [
       "0    7963\n",
       "1    2037\n",
       "Name: Exited, dtype: int64"
      ]
     },
     "execution_count": 4,
     "metadata": {},
     "output_type": "execute_result"
    }
   ],
   "source": [
    "data['Exited'].value_counts()"
   ]
  },
  {
   "cell_type": "code",
   "execution_count": 5,
   "id": "77cc16fe",
   "metadata": {
    "execution": {
     "iopub.execute_input": "2022-10-24T08:45:53.237899Z",
     "iopub.status.busy": "2022-10-24T08:45:53.237161Z",
     "iopub.status.idle": "2022-10-24T08:45:53.247524Z",
     "shell.execute_reply": "2022-10-24T08:45:53.246687Z"
    },
    "papermill": {
     "duration": 0.022135,
     "end_time": "2022-10-24T08:45:53.249813",
     "exception": false,
     "start_time": "2022-10-24T08:45:53.227678",
     "status": "completed"
    },
    "tags": []
   },
   "outputs": [],
   "source": [
    "X_train, X_test, y_train, y_test = train_test_split(data, data['Exited'], random_state = 50)"
   ]
  },
  {
   "cell_type": "code",
   "execution_count": 6,
   "id": "16abb655",
   "metadata": {
    "execution": {
     "iopub.execute_input": "2022-10-24T08:45:53.269757Z",
     "iopub.status.busy": "2022-10-24T08:45:53.268993Z",
     "iopub.status.idle": "2022-10-24T08:45:53.279495Z",
     "shell.execute_reply": "2022-10-24T08:45:53.278521Z"
    },
    "papermill": {
     "duration": 0.022238,
     "end_time": "2022-10-24T08:45:53.281867",
     "exception": false,
     "start_time": "2022-10-24T08:45:53.259629",
     "status": "completed"
    },
    "tags": []
   },
   "outputs": [],
   "source": [
    "class FeatureSelector(BaseEstimator, TransformerMixin):\n",
    "    def __init__(self, column):\n",
    "        self.column = column\n",
    "\n",
    "    def fit(self, X, y=None):\n",
    "        return self\n",
    "\n",
    "    def transform(self, X, y=None):\n",
    "        return X[self.column]\n",
    "    \n",
    "class NumberSelector(BaseEstimator, TransformerMixin):\n",
    "    \"\"\"\n",
    "    Transformer to select a single column from the data frame to perform additional transformations on\n",
    "    Use on numeric columns in the data\n",
    "    \"\"\"\n",
    "    def __init__(self, key):\n",
    "        self.key = key\n",
    "\n",
    "    def fit(self, X, y=None):\n",
    "        return self\n",
    "\n",
    "    def transform(self, X):\n",
    "        return X[[self.key]]\n",
    "    \n",
    "class OHEEncoder(BaseEstimator, TransformerMixin):\n",
    "    def __init__(self, key):\n",
    "        self.key = key\n",
    "        self.columns = []\n",
    "\n",
    "    def fit(self, X, y=None):\n",
    "        self.columns = [col for col in pd.get_dummies(X, prefix=self.key).columns]\n",
    "        return self\n",
    "\n",
    "    def transform(self, X):\n",
    "        X = pd.get_dummies(X, prefix=self.key)\n",
    "        test_columns = [col for col in X.columns]\n",
    "        for col_ in self.columns:\n",
    "            if col_ not in test_columns:\n",
    "                X[col_] = 0\n",
    "        return X[self.columns]"
   ]
  },
  {
   "cell_type": "code",
   "execution_count": 7,
   "id": "9f7c98ab",
   "metadata": {
    "execution": {
     "iopub.execute_input": "2022-10-24T08:45:53.300348Z",
     "iopub.status.busy": "2022-10-24T08:45:53.299649Z",
     "iopub.status.idle": "2022-10-24T08:45:53.304968Z",
     "shell.execute_reply": "2022-10-24T08:45:53.303674Z"
    },
    "papermill": {
     "duration": 0.017545,
     "end_time": "2022-10-24T08:45:53.307528",
     "exception": false,
     "start_time": "2022-10-24T08:45:53.289983",
     "status": "completed"
    },
    "tags": []
   },
   "outputs": [],
   "source": [
    "categorical_columns = ['Geography', 'Gender', 'Tenure', 'HasCrCard', 'IsActiveMember']\n",
    "continuous_columns = ['CreditScore', 'Age', 'Balance', 'NumOfProducts', 'EstimatedSalary']"
   ]
  },
  {
   "cell_type": "code",
   "execution_count": 8,
   "id": "24c2187d",
   "metadata": {
    "execution": {
     "iopub.execute_input": "2022-10-24T08:45:53.325371Z",
     "iopub.status.busy": "2022-10-24T08:45:53.324904Z",
     "iopub.status.idle": "2022-10-24T08:45:53.332329Z",
     "shell.execute_reply": "2022-10-24T08:45:53.331184Z"
    },
    "papermill": {
     "duration": 0.018847,
     "end_time": "2022-10-24T08:45:53.334490",
     "exception": false,
     "start_time": "2022-10-24T08:45:53.315643",
     "status": "completed"
    },
    "tags": []
   },
   "outputs": [],
   "source": [
    "final_transformers = list()\n",
    "\n",
    "for cat_col in categorical_columns:\n",
    "    cat_transformer = Pipeline([\n",
    "                ('selector', FeatureSelector(column=cat_col)),\n",
    "                ('ohe', OHEEncoder(key=cat_col))\n",
    "            ])\n",
    "    final_transformers.append((cat_col, cat_transformer))\n",
    "    \n",
    "for cont_col in continuous_columns:\n",
    "    cont_transformer = Pipeline([\n",
    "                ('selector', NumberSelector(key=cont_col)),\n",
    "                ('standard', StandardScaler())\n",
    "            ])\n",
    "    final_transformers.append((cont_col, cont_transformer))"
   ]
  },
  {
   "cell_type": "code",
   "execution_count": 9,
   "id": "a496d5ee",
   "metadata": {
    "execution": {
     "iopub.execute_input": "2022-10-24T08:45:53.352597Z",
     "iopub.status.busy": "2022-10-24T08:45:53.352126Z",
     "iopub.status.idle": "2022-10-24T08:45:53.358045Z",
     "shell.execute_reply": "2022-10-24T08:45:53.356923Z"
    },
    "papermill": {
     "duration": 0.017942,
     "end_time": "2022-10-24T08:45:53.360481",
     "exception": false,
     "start_time": "2022-10-24T08:45:53.342539",
     "status": "completed"
    },
    "tags": []
   },
   "outputs": [],
   "source": [
    "feats = FeatureUnion(final_transformers)\n",
    "\n",
    "feature_processing = Pipeline([('feats', feats)])"
   ]
  },
  {
   "cell_type": "markdown",
   "id": "f378ae96",
   "metadata": {
    "papermill": {
     "duration": 0.007684,
     "end_time": "2022-10-24T08:45:53.376257",
     "exception": false,
     "start_time": "2022-10-24T08:45:53.368573",
     "status": "completed"
    },
    "tags": []
   },
   "source": [
    "### Задание №1\n",
    "\n",
    "#### Boosting"
   ]
  },
  {
   "cell_type": "code",
   "execution_count": 10,
   "id": "ce5fce0c",
   "metadata": {
    "execution": {
     "iopub.execute_input": "2022-10-24T08:45:53.394442Z",
     "iopub.status.busy": "2022-10-24T08:45:53.393991Z",
     "iopub.status.idle": "2022-10-24T08:45:53.399537Z",
     "shell.execute_reply": "2022-10-24T08:45:53.398402Z"
    },
    "papermill": {
     "duration": 0.017561,
     "end_time": "2022-10-24T08:45:53.401835",
     "exception": false,
     "start_time": "2022-10-24T08:45:53.384274",
     "status": "completed"
    },
    "tags": []
   },
   "outputs": [],
   "source": [
    "model_gbc = GradientBoostingClassifier(random_state=50)"
   ]
  },
  {
   "cell_type": "code",
   "execution_count": 11,
   "id": "71916c85",
   "metadata": {
    "execution": {
     "iopub.execute_input": "2022-10-24T08:45:53.420341Z",
     "iopub.status.busy": "2022-10-24T08:45:53.419614Z",
     "iopub.status.idle": "2022-10-24T08:45:54.767099Z",
     "shell.execute_reply": "2022-10-24T08:45:54.765966Z"
    },
    "papermill": {
     "duration": 1.35964,
     "end_time": "2022-10-24T08:45:54.769570",
     "exception": false,
     "start_time": "2022-10-24T08:45:53.409930",
     "status": "completed"
    },
    "tags": []
   },
   "outputs": [
    {
     "data": {
      "text/plain": [
       "Pipeline(steps=[('features',\n",
       "                 FeatureUnion(transformer_list=[('Geography',\n",
       "                                                 Pipeline(steps=[('selector',\n",
       "                                                                  FeatureSelector(column='Geography')),\n",
       "                                                                 ('ohe',\n",
       "                                                                  OHEEncoder(key='Geography'))])),\n",
       "                                                ('Gender',\n",
       "                                                 Pipeline(steps=[('selector',\n",
       "                                                                  FeatureSelector(column='Gender')),\n",
       "                                                                 ('ohe',\n",
       "                                                                  OHEEncoder(key='Gender'))])),\n",
       "                                                ('Tenure',\n",
       "                                                 Pipeline(steps=[('selector',\n",
       "                                                                  FeatureSelector(column='Tenu...\n",
       "                                                                  NumberSelector(key='Balance')),\n",
       "                                                                 ('standard',\n",
       "                                                                  StandardScaler())])),\n",
       "                                                ('NumOfProducts',\n",
       "                                                 Pipeline(steps=[('selector',\n",
       "                                                                  NumberSelector(key='NumOfProducts')),\n",
       "                                                                 ('standard',\n",
       "                                                                  StandardScaler())])),\n",
       "                                                ('EstimatedSalary',\n",
       "                                                 Pipeline(steps=[('selector',\n",
       "                                                                  NumberSelector(key='EstimatedSalary')),\n",
       "                                                                 ('standard',\n",
       "                                                                  StandardScaler())]))])),\n",
       "                ('model', GradientBoostingClassifier(random_state=50))])"
      ]
     },
     "execution_count": 11,
     "metadata": {},
     "output_type": "execute_result"
    }
   ],
   "source": [
    "pipeline = Pipeline([('features', feats), ('model', model_gbc)])\n",
    "pipeline.fit(X_train, y_train)"
   ]
  },
  {
   "cell_type": "code",
   "execution_count": 12,
   "id": "ee21824c",
   "metadata": {
    "execution": {
     "iopub.execute_input": "2022-10-24T08:45:54.788372Z",
     "iopub.status.busy": "2022-10-24T08:45:54.787700Z",
     "iopub.status.idle": "2022-10-24T08:45:54.818328Z",
     "shell.execute_reply": "2022-10-24T08:45:54.817402Z"
    },
    "papermill": {
     "duration": 0.043071,
     "end_time": "2022-10-24T08:45:54.821023",
     "exception": false,
     "start_time": "2022-10-24T08:45:54.777952",
     "status": "completed"
    },
    "tags": []
   },
   "outputs": [
    {
     "data": {
      "text/plain": [
       "array([0.54667745, 0.03412696, 0.30911914, 0.21279085, 0.07268106,\n",
       "       0.08764192, 0.01234402, 0.07340383, 0.94748746, 0.0531532 ])"
      ]
     },
     "execution_count": 12,
     "metadata": {},
     "output_type": "execute_result"
    }
   ],
   "source": [
    "preds = pipeline.predict_proba(X_test)[:, 1]\n",
    "preds[:10]"
   ]
  },
  {
   "cell_type": "code",
   "execution_count": 13,
   "id": "5403d42c",
   "metadata": {
    "execution": {
     "iopub.execute_input": "2022-10-24T08:45:54.840394Z",
     "iopub.status.busy": "2022-10-24T08:45:54.839944Z",
     "iopub.status.idle": "2022-10-24T08:45:54.850285Z",
     "shell.execute_reply": "2022-10-24T08:45:54.848943Z"
    },
    "papermill": {
     "duration": 0.022718,
     "end_time": "2022-10-24T08:45:54.852646",
     "exception": false,
     "start_time": "2022-10-24T08:45:54.829928",
     "status": "completed"
    },
    "tags": []
   },
   "outputs": [
    {
     "name": "stdout",
     "output_type": "stream",
     "text": [
      "Best Threshold=0.312227, F-Score=0.601, Precision=0.585, Recall=0.617\n"
     ]
    }
   ],
   "source": [
    "precision, recall, thresholds = precision_recall_curve(y_test, preds)\n",
    "\n",
    "fscore = (2 * precision * recall) / (precision + recall)\n",
    "ix_gbc = np.argmax(fscore)\n",
    "results_gbc = (thresholds[ix_gbc], fscore[ix_gbc], precision[ix_gbc], recall[ix_gbc])\n",
    "print('Best Threshold=%f, F-Score=%.3f, Precision=%.3f, Recall=%.3f' % (results_gbc))"
   ]
  },
  {
   "cell_type": "markdown",
   "id": "009b1c21",
   "metadata": {
    "papermill": {
     "duration": 0.008627,
     "end_time": "2022-10-24T08:45:54.869627",
     "exception": false,
     "start_time": "2022-10-24T08:45:54.861000",
     "status": "completed"
    },
    "tags": []
   },
   "source": [
    "#### Logistic Regression"
   ]
  },
  {
   "cell_type": "code",
   "execution_count": 14,
   "id": "461f65cb",
   "metadata": {
    "execution": {
     "iopub.execute_input": "2022-10-24T08:45:54.889619Z",
     "iopub.status.busy": "2022-10-24T08:45:54.888866Z",
     "iopub.status.idle": "2022-10-24T08:45:54.893731Z",
     "shell.execute_reply": "2022-10-24T08:45:54.892927Z"
    },
    "papermill": {
     "duration": 0.017047,
     "end_time": "2022-10-24T08:45:54.895721",
     "exception": false,
     "start_time": "2022-10-24T08:45:54.878674",
     "status": "completed"
    },
    "tags": []
   },
   "outputs": [],
   "source": [
    "model_lr = LogisticRegression(solver='lbfgs', random_state=50)"
   ]
  },
  {
   "cell_type": "code",
   "execution_count": 15,
   "id": "0dafba3d",
   "metadata": {
    "execution": {
     "iopub.execute_input": "2022-10-24T08:45:54.915024Z",
     "iopub.status.busy": "2022-10-24T08:45:54.914125Z",
     "iopub.status.idle": "2022-10-24T08:45:55.193732Z",
     "shell.execute_reply": "2022-10-24T08:45:55.192621Z"
    },
    "papermill": {
     "duration": 0.292054,
     "end_time": "2022-10-24T08:45:55.196381",
     "exception": false,
     "start_time": "2022-10-24T08:45:54.904327",
     "status": "completed"
    },
    "tags": []
   },
   "outputs": [
    {
     "data": {
      "text/plain": [
       "Pipeline(steps=[('features',\n",
       "                 FeatureUnion(transformer_list=[('Geography',\n",
       "                                                 Pipeline(steps=[('selector',\n",
       "                                                                  FeatureSelector(column='Geography')),\n",
       "                                                                 ('ohe',\n",
       "                                                                  OHEEncoder(key='Geography'))])),\n",
       "                                                ('Gender',\n",
       "                                                 Pipeline(steps=[('selector',\n",
       "                                                                  FeatureSelector(column='Gender')),\n",
       "                                                                 ('ohe',\n",
       "                                                                  OHEEncoder(key='Gender'))])),\n",
       "                                                ('Tenure',\n",
       "                                                 Pipeline(steps=[('selector',\n",
       "                                                                  FeatureSelector(column='Tenu...\n",
       "                                                 Pipeline(steps=[('selector',\n",
       "                                                                  NumberSelector(key='Balance')),\n",
       "                                                                 ('standard',\n",
       "                                                                  StandardScaler())])),\n",
       "                                                ('NumOfProducts',\n",
       "                                                 Pipeline(steps=[('selector',\n",
       "                                                                  NumberSelector(key='NumOfProducts')),\n",
       "                                                                 ('standard',\n",
       "                                                                  StandardScaler())])),\n",
       "                                                ('EstimatedSalary',\n",
       "                                                 Pipeline(steps=[('selector',\n",
       "                                                                  NumberSelector(key='EstimatedSalary')),\n",
       "                                                                 ('standard',\n",
       "                                                                  StandardScaler())]))])),\n",
       "                ('model', LogisticRegression(random_state=50))])"
      ]
     },
     "execution_count": 15,
     "metadata": {},
     "output_type": "execute_result"
    }
   ],
   "source": [
    "pipeline = Pipeline([('features', feats), ('model', model_lr)])\n",
    "pipeline.fit(X_train, y_train)"
   ]
  },
  {
   "cell_type": "code",
   "execution_count": 16,
   "id": "e9528a9a",
   "metadata": {
    "execution": {
     "iopub.execute_input": "2022-10-24T08:45:55.217092Z",
     "iopub.status.busy": "2022-10-24T08:45:55.216706Z",
     "iopub.status.idle": "2022-10-24T08:45:55.246227Z",
     "shell.execute_reply": "2022-10-24T08:45:55.244664Z"
    },
    "papermill": {
     "duration": 0.046207,
     "end_time": "2022-10-24T08:45:55.251828",
     "exception": false,
     "start_time": "2022-10-24T08:45:55.205621",
     "status": "completed"
    },
    "tags": []
   },
   "outputs": [
    {
     "data": {
      "text/plain": [
       "array([0.65021462, 0.10354659, 0.22985545, 0.11526717, 0.19874392,\n",
       "       0.13662433, 0.02553101, 0.2783181 , 0.86177097, 0.07070902])"
      ]
     },
     "execution_count": 16,
     "metadata": {},
     "output_type": "execute_result"
    }
   ],
   "source": [
    "preds = pipeline.predict_proba(X_test)[:, 1]\n",
    "preds[:10]"
   ]
  },
  {
   "cell_type": "code",
   "execution_count": 17,
   "id": "92293c5d",
   "metadata": {
    "execution": {
     "iopub.execute_input": "2022-10-24T08:45:55.300275Z",
     "iopub.status.busy": "2022-10-24T08:45:55.299507Z",
     "iopub.status.idle": "2022-10-24T08:45:55.321186Z",
     "shell.execute_reply": "2022-10-24T08:45:55.319459Z"
    },
    "papermill": {
     "duration": 0.051998,
     "end_time": "2022-10-24T08:45:55.326365",
     "exception": false,
     "start_time": "2022-10-24T08:45:55.274367",
     "status": "completed"
    },
    "tags": []
   },
   "outputs": [
    {
     "name": "stdout",
     "output_type": "stream",
     "text": [
      "Best Threshold=0.340264, F-Score=0.476, Precision=0.475, Recall=0.477\n"
     ]
    }
   ],
   "source": [
    "precision, recall, thresholds = precision_recall_curve(y_test, preds)\n",
    "\n",
    "fscore = (2 * precision * recall) / (precision + recall)\n",
    "ix_lr = np.argmax(fscore)\n",
    "results_lr = (thresholds[ix_lr], fscore[ix_lr], precision[ix_lr], recall[ix_lr])\n",
    "print('Best Threshold=%f, F-Score=%.3f, Precision=%.3f, Recall=%.3f' % (results_lr))"
   ]
  },
  {
   "cell_type": "markdown",
   "id": "1c341664",
   "metadata": {
    "papermill": {
     "duration": 0.015481,
     "end_time": "2022-10-24T08:45:55.364116",
     "exception": false,
     "start_time": "2022-10-24T08:45:55.348635",
     "status": "completed"
    },
    "tags": []
   },
   "source": [
    "### Задание №2"
   ]
  },
  {
   "cell_type": "code",
   "execution_count": 18,
   "id": "cecbb55a",
   "metadata": {
    "execution": {
     "iopub.execute_input": "2022-10-24T08:45:55.383372Z",
     "iopub.status.busy": "2022-10-24T08:45:55.382944Z",
     "iopub.status.idle": "2022-10-24T08:45:55.391036Z",
     "shell.execute_reply": "2022-10-24T08:45:55.390200Z"
    },
    "papermill": {
     "duration": 0.021145,
     "end_time": "2022-10-24T08:45:55.394075",
     "exception": false,
     "start_time": "2022-10-24T08:45:55.372930",
     "status": "completed"
    },
    "tags": []
   },
   "outputs": [],
   "source": [
    "results = pd.DataFrame([results_gbc, results_lr], columns=['Best Threshold', 'F-Score', 'Precision', 'Recall'])\n",
    "\n",
    "results['models'] = ['GradientBoostingClassifier', 'LogisticRegression']\n",
    "results = results.set_index('models')"
   ]
  },
  {
   "cell_type": "code",
   "execution_count": 19,
   "id": "50f23c03",
   "metadata": {
    "execution": {
     "iopub.execute_input": "2022-10-24T08:45:55.414177Z",
     "iopub.status.busy": "2022-10-24T08:45:55.413364Z",
     "iopub.status.idle": "2022-10-24T08:45:55.426818Z",
     "shell.execute_reply": "2022-10-24T08:45:55.425579Z"
    },
    "papermill": {
     "duration": 0.026197,
     "end_time": "2022-10-24T08:45:55.429260",
     "exception": false,
     "start_time": "2022-10-24T08:45:55.403063",
     "status": "completed"
    },
    "tags": []
   },
   "outputs": [
    {
     "data": {
      "text/html": [
       "<div>\n",
       "<style scoped>\n",
       "    .dataframe tbody tr th:only-of-type {\n",
       "        vertical-align: middle;\n",
       "    }\n",
       "\n",
       "    .dataframe tbody tr th {\n",
       "        vertical-align: top;\n",
       "    }\n",
       "\n",
       "    .dataframe thead th {\n",
       "        text-align: right;\n",
       "    }\n",
       "</style>\n",
       "<table border=\"1\" class=\"dataframe\">\n",
       "  <thead>\n",
       "    <tr style=\"text-align: right;\">\n",
       "      <th></th>\n",
       "      <th>Best Threshold</th>\n",
       "      <th>F-Score</th>\n",
       "      <th>Precision</th>\n",
       "      <th>Recall</th>\n",
       "    </tr>\n",
       "    <tr>\n",
       "      <th>models</th>\n",
       "      <th></th>\n",
       "      <th></th>\n",
       "      <th></th>\n",
       "      <th></th>\n",
       "    </tr>\n",
       "  </thead>\n",
       "  <tbody>\n",
       "    <tr>\n",
       "      <th>GradientBoostingClassifier</th>\n",
       "      <td>0.312227</td>\n",
       "      <td>0.600583</td>\n",
       "      <td>0.585227</td>\n",
       "      <td>0.616766</td>\n",
       "    </tr>\n",
       "    <tr>\n",
       "      <th>LogisticRegression</th>\n",
       "      <td>0.340264</td>\n",
       "      <td>0.476096</td>\n",
       "      <td>0.475149</td>\n",
       "      <td>0.477046</td>\n",
       "    </tr>\n",
       "  </tbody>\n",
       "</table>\n",
       "</div>"
      ],
      "text/plain": [
       "                            Best Threshold   F-Score  Precision    Recall\n",
       "models                                                                   \n",
       "GradientBoostingClassifier        0.312227  0.600583   0.585227  0.616766\n",
       "LogisticRegression                0.340264  0.476096   0.475149  0.477046"
      ]
     },
     "execution_count": 19,
     "metadata": {},
     "output_type": "execute_result"
    }
   ],
   "source": [
    "results.sort_values(by='F-Score', axis=0, ascending=False)"
   ]
  },
  {
   "cell_type": "markdown",
   "id": "b6c572c0",
   "metadata": {
    "papermill": {
     "duration": 0.00848,
     "end_time": "2022-10-24T08:45:55.446788",
     "exception": false,
     "start_time": "2022-10-24T08:45:55.438308",
     "status": "completed"
    },
    "tags": []
   },
   "source": [
    "**В результате мы видим что бустинг показывает более высокий метки. У логистической регрессии можно заметить что Recall значительно превышает Precision. \n",
    "Как следствие можно сделать следующий вывод: Recall в данном случае говорит о том что данную долю клиентов можно попытаться удержать (бустинг ~58,5%, логистическая регрессия ~47,5%) предложив например специальные условия для удержания последних.\n",
    "При этом Precision показывает, что для всех клиентов, которые уходят и получают при этом спецпредложения, обратная доля клиентов удовлетворена услугой и не нуждается в удержании (бустинг ~38,3%, логистическая регрессия ~52,3%) как следствие дополнительные финансовые вливания не являются необходимыми. \n",
    "Precision в случае использования логистической регрессии достаточно низкий, а значит модель делает Positive классификаций. Исходя из полученных данных можно сделать следующий вывод, что лучше использовать бустинг, так как наша задача - как можно более точно определить количество клиентов которые нас покинут. Оптимизируя финансовые затраты на привлечение клиентов которые всё равно так уйдут.**"
   ]
  },
  {
   "cell_type": "markdown",
   "id": "e8fb3985",
   "metadata": {
    "papermill": {
     "duration": 0.008466,
     "end_time": "2022-10-24T08:45:55.464111",
     "exception": false,
     "start_time": "2022-10-24T08:45:55.455645",
     "status": "completed"
    },
    "tags": []
   },
   "source": [
    "### Задание №3"
   ]
  },
  {
   "cell_type": "code",
   "execution_count": 20,
   "id": "2acfa603",
   "metadata": {
    "execution": {
     "iopub.execute_input": "2022-10-24T08:45:55.484217Z",
     "iopub.status.busy": "2022-10-24T08:45:55.483804Z",
     "iopub.status.idle": "2022-10-24T08:45:55.493859Z",
     "shell.execute_reply": "2022-10-24T08:45:55.492231Z"
    },
    "papermill": {
     "duration": 0.024524,
     "end_time": "2022-10-24T08:45:55.497500",
     "exception": false,
     "start_time": "2022-10-24T08:45:55.472976",
     "status": "completed"
    },
    "tags": []
   },
   "outputs": [
    {
     "name": "stdout",
     "output_type": "stream",
     "text": [
      "[[1557  442]\n",
      " [ 218  283]]\n"
     ]
    }
   ],
   "source": [
    "# GradientBoostingClassifier\n",
    "\n",
    "cnf_matrix_gbc = confusion_matrix(y_test, preds>thresholds[ix_gbc])\n",
    "print(cnf_matrix_gbc)"
   ]
  },
  {
   "cell_type": "code",
   "execution_count": 21,
   "id": "6f215f6d",
   "metadata": {
    "execution": {
     "iopub.execute_input": "2022-10-24T08:45:55.518423Z",
     "iopub.status.busy": "2022-10-24T08:45:55.517437Z",
     "iopub.status.idle": "2022-10-24T08:45:55.524282Z",
     "shell.execute_reply": "2022-10-24T08:45:55.522947Z"
    },
    "papermill": {
     "duration": 0.020058,
     "end_time": "2022-10-24T08:45:55.526911",
     "exception": false,
     "start_time": "2022-10-24T08:45:55.506853",
     "status": "completed"
    },
    "tags": []
   },
   "outputs": [
    {
     "name": "stdout",
     "output_type": "stream",
     "text": [
      "TN = 1557, FP = 442\n",
      "FN = 218, TP = 283\n"
     ]
    }
   ],
   "source": [
    "print(f'TN = {cnf_matrix_gbc[0][0]}, FP = {cnf_matrix_gbc[0][1]}\\nFN = {cnf_matrix_gbc[1][0]}, TP = {cnf_matrix_gbc[1][1]}')"
   ]
  },
  {
   "cell_type": "code",
   "execution_count": 22,
   "id": "319de5b0",
   "metadata": {
    "execution": {
     "iopub.execute_input": "2022-10-24T08:45:55.547806Z",
     "iopub.status.busy": "2022-10-24T08:45:55.547410Z",
     "iopub.status.idle": "2022-10-24T08:45:55.554955Z",
     "shell.execute_reply": "2022-10-24T08:45:55.554139Z"
    },
    "papermill": {
     "duration": 0.021355,
     "end_time": "2022-10-24T08:45:55.558202",
     "exception": false,
     "start_time": "2022-10-24T08:45:55.536847",
     "status": "completed"
    },
    "tags": []
   },
   "outputs": [
    {
     "name": "stdout",
     "output_type": "stream",
     "text": [
      "[[1735  264]\n",
      " [ 263  238]]\n"
     ]
    }
   ],
   "source": [
    "# LogisticRegression\n",
    "\n",
    "cnf_matrix_lr = confusion_matrix(y_test, preds>thresholds[ix_lr])\n",
    "print(cnf_matrix_lr)"
   ]
  },
  {
   "cell_type": "code",
   "execution_count": 23,
   "id": "82380e78",
   "metadata": {
    "execution": {
     "iopub.execute_input": "2022-10-24T08:45:55.580421Z",
     "iopub.status.busy": "2022-10-24T08:45:55.578243Z",
     "iopub.status.idle": "2022-10-24T08:45:55.586091Z",
     "shell.execute_reply": "2022-10-24T08:45:55.584393Z"
    },
    "papermill": {
     "duration": 0.02101,
     "end_time": "2022-10-24T08:45:55.588900",
     "exception": false,
     "start_time": "2022-10-24T08:45:55.567890",
     "status": "completed"
    },
    "tags": []
   },
   "outputs": [
    {
     "name": "stdout",
     "output_type": "stream",
     "text": [
      "TN = 1735, FP = 264\n",
      "FN = 263, TP = 238\n"
     ]
    }
   ],
   "source": [
    "print(f'TN = {cnf_matrix_lr[0][0]}, FP = {cnf_matrix_lr[0][1]}\\nFN = {cnf_matrix_lr[1][0]}, TP = {cnf_matrix_lr[1][1]}')"
   ]
  },
  {
   "cell_type": "code",
   "execution_count": 24,
   "id": "b7cff5f7",
   "metadata": {
    "execution": {
     "iopub.execute_input": "2022-10-24T08:45:55.613303Z",
     "iopub.status.busy": "2022-10-24T08:45:55.612554Z",
     "iopub.status.idle": "2022-10-24T08:45:55.617953Z",
     "shell.execute_reply": "2022-10-24T08:45:55.616700Z"
    },
    "papermill": {
     "duration": 0.021642,
     "end_time": "2022-10-24T08:45:55.620109",
     "exception": false,
     "start_time": "2022-10-24T08:45:55.598467",
     "status": "completed"
    },
    "tags": []
   },
   "outputs": [],
   "source": [
    "TP_gbc = cnf_matrix_gbc[1, 1]\n",
    "FP_gbc = cnf_matrix_gbc[0, 1]\n",
    "TP_lr = cnf_matrix_lr[1, 1]\n",
    "FP_lr = cnf_matrix_lr[0, 1]"
   ]
  },
  {
   "cell_type": "markdown",
   "id": "cd73f2dd",
   "metadata": {
    "papermill": {
     "duration": 0.013609,
     "end_time": "2022-10-24T08:45:55.648797",
     "exception": false,
     "start_time": "2022-10-24T08:45:55.635188",
     "status": "completed"
    },
    "tags": []
   },
   "source": [
    "**Произведём расчёт по формуле: Profit=(TP*2)-(TP+FP)**"
   ]
  },
  {
   "cell_type": "code",
   "execution_count": 25,
   "id": "e673d209",
   "metadata": {
    "execution": {
     "iopub.execute_input": "2022-10-24T08:45:55.670468Z",
     "iopub.status.busy": "2022-10-24T08:45:55.669291Z",
     "iopub.status.idle": "2022-10-24T08:45:55.677588Z",
     "shell.execute_reply": "2022-10-24T08:45:55.676215Z"
    },
    "papermill": {
     "duration": 0.022201,
     "end_time": "2022-10-24T08:45:55.680394",
     "exception": false,
     "start_time": "2022-10-24T08:45:55.658193",
     "status": "completed"
    },
    "tags": []
   },
   "outputs": [
    {
     "data": {
      "text/plain": [
       "-159"
      ]
     },
     "execution_count": 25,
     "metadata": {},
     "output_type": "execute_result"
    }
   ],
   "source": [
    "# GradientBoostingClassifier\n",
    "\n",
    "profit_gbc = (TP_gbc * 2) - (TP_gbc + FP_gbc)\n",
    "profit_gbc"
   ]
  },
  {
   "cell_type": "code",
   "execution_count": 26,
   "id": "ed9de037",
   "metadata": {
    "execution": {
     "iopub.execute_input": "2022-10-24T08:45:55.705669Z",
     "iopub.status.busy": "2022-10-24T08:45:55.704906Z",
     "iopub.status.idle": "2022-10-24T08:45:55.711772Z",
     "shell.execute_reply": "2022-10-24T08:45:55.710697Z"
    },
    "papermill": {
     "duration": 0.019912,
     "end_time": "2022-10-24T08:45:55.714107",
     "exception": false,
     "start_time": "2022-10-24T08:45:55.694195",
     "status": "completed"
    },
    "tags": []
   },
   "outputs": [
    {
     "data": {
      "text/plain": [
       "-26"
      ]
     },
     "execution_count": 26,
     "metadata": {},
     "output_type": "execute_result"
    }
   ],
   "source": [
    "# LogisticRegression\n",
    "\n",
    "profit_lr = (TP_lr * 2) - (TP_lr + FP_lr)\n",
    "profit_lr"
   ]
  }
 ],
 "metadata": {
  "kernelspec": {
   "display_name": "Python 3",
   "language": "python",
   "name": "python3"
  },
  "language_info": {
   "codemirror_mode": {
    "name": "ipython",
    "version": 3
   },
   "file_extension": ".py",
   "mimetype": "text/x-python",
   "name": "python",
   "nbconvert_exporter": "python",
   "pygments_lexer": "ipython3",
   "version": "3.7.12"
  },
  "papermill": {
   "default_parameters": {},
   "duration": 13.271882,
   "end_time": "2022-10-24T08:45:56.546794",
   "environment_variables": {},
   "exception": null,
   "input_path": "__notebook__.ipynb",
   "output_path": "__notebook__.ipynb",
   "parameters": {},
   "start_time": "2022-10-24T08:45:43.274912",
   "version": "2.3.4"
  }
 },
 "nbformat": 4,
 "nbformat_minor": 5
}
