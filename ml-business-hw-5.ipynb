{
 "cells": [
  {
   "cell_type": "code",
   "execution_count": 1,
   "id": "18f945ec",
   "metadata": {
    "_cell_guid": "b1076dfc-b9ad-4769-8c92-a6c4dae69d19",
    "_uuid": "8f2839f25d086af736a60e9eeb907d3b93b6e0e5",
    "execution": {
     "iopub.execute_input": "2022-10-23T08:57:34.054297Z",
     "iopub.status.busy": "2022-10-23T08:57:34.053288Z",
     "iopub.status.idle": "2022-10-23T08:57:34.074151Z",
     "shell.execute_reply": "2022-10-23T08:57:34.073241Z"
    },
    "papermill": {
     "duration": 0.036105,
     "end_time": "2022-10-23T08:57:34.077525",
     "exception": false,
     "start_time": "2022-10-23T08:57:34.041420",
     "status": "completed"
    },
    "tags": []
   },
   "outputs": [
    {
     "name": "stdout",
     "output_type": "stream",
     "text": [
      "/kaggle/input/churn-data/churn_data.csv\n"
     ]
    }
   ],
   "source": [
    "# This Python 3 environment comes with many helpful analytics libraries installed\n",
    "# It is defined by the kaggle/python Docker image: https://github.com/kaggle/docker-python\n",
    "# For example, here's several helpful packages to load\n",
    "\n",
    "import numpy as np # linear algebra\n",
    "import pandas as pd # data processing, CSV file I/O (e.g. pd.read_csv)\n",
    "\n",
    "# Input data files are available in the read-only \"../input/\" directory\n",
    "# For example, running this (by clicking run or pressing Shift+Enter) will list all files under the input directory\n",
    "\n",
    "import os\n",
    "for dirname, _, filenames in os.walk('/kaggle/input'):\n",
    "    for filename in filenames:\n",
    "        print(os.path.join(dirname, filename))\n",
    "\n",
    "# You can write up to 20GB to the current directory (/kaggle/working/) that gets preserved as output when you create a version using \"Save & Run All\" \n",
    "# You can also write temporary files to /kaggle/temp/, but they won't be saved outside of the current session"
   ]
  },
  {
   "cell_type": "code",
   "execution_count": 2,
   "id": "a4265886",
   "metadata": {
    "execution": {
     "iopub.execute_input": "2022-10-23T08:57:34.095500Z",
     "iopub.status.busy": "2022-10-23T08:57:34.094801Z",
     "iopub.status.idle": "2022-10-23T08:57:35.562376Z",
     "shell.execute_reply": "2022-10-23T08:57:35.560984Z"
    },
    "papermill": {
     "duration": 1.479535,
     "end_time": "2022-10-23T08:57:35.565266",
     "exception": false,
     "start_time": "2022-10-23T08:57:34.085731",
     "status": "completed"
    },
    "tags": []
   },
   "outputs": [],
   "source": [
    "import pandas as pd\n",
    "import numpy as np\n",
    "\n",
    "from sklearn.pipeline import Pipeline, FeatureUnion\n",
    "from sklearn.base import BaseEstimator, TransformerMixin\n",
    "from sklearn.linear_model import LogisticRegression\n",
    "from sklearn.model_selection import train_test_split\n",
    "from sklearn.preprocessing import StandardScaler\n",
    "from sklearn.ensemble import GradientBoostingClassifier\n",
    "from sklearn.metrics import precision_recall_curve, confusion_matrix"
   ]
  },
  {
   "cell_type": "code",
   "execution_count": 3,
   "id": "64fa7e96",
   "metadata": {
    "execution": {
     "iopub.execute_input": "2022-10-23T08:57:35.583134Z",
     "iopub.status.busy": "2022-10-23T08:57:35.582396Z",
     "iopub.status.idle": "2022-10-23T08:57:35.663467Z",
     "shell.execute_reply": "2022-10-23T08:57:35.662202Z"
    },
    "papermill": {
     "duration": 0.093177,
     "end_time": "2022-10-23T08:57:35.666255",
     "exception": false,
     "start_time": "2022-10-23T08:57:35.573078",
     "status": "completed"
    },
    "tags": []
   },
   "outputs": [
    {
     "data": {
      "text/html": [
       "<div>\n",
       "<style scoped>\n",
       "    .dataframe tbody tr th:only-of-type {\n",
       "        vertical-align: middle;\n",
       "    }\n",
       "\n",
       "    .dataframe tbody tr th {\n",
       "        vertical-align: top;\n",
       "    }\n",
       "\n",
       "    .dataframe thead th {\n",
       "        text-align: right;\n",
       "    }\n",
       "</style>\n",
       "<table border=\"1\" class=\"dataframe\">\n",
       "  <thead>\n",
       "    <tr style=\"text-align: right;\">\n",
       "      <th></th>\n",
       "      <th>RowNumber</th>\n",
       "      <th>CustomerId</th>\n",
       "      <th>Surname</th>\n",
       "      <th>CreditScore</th>\n",
       "      <th>Geography</th>\n",
       "      <th>Gender</th>\n",
       "      <th>Age</th>\n",
       "      <th>Tenure</th>\n",
       "      <th>Balance</th>\n",
       "      <th>NumOfProducts</th>\n",
       "      <th>HasCrCard</th>\n",
       "      <th>IsActiveMember</th>\n",
       "      <th>EstimatedSalary</th>\n",
       "      <th>Exited</th>\n",
       "    </tr>\n",
       "  </thead>\n",
       "  <tbody>\n",
       "    <tr>\n",
       "      <th>0</th>\n",
       "      <td>1</td>\n",
       "      <td>15634602</td>\n",
       "      <td>Hargrave</td>\n",
       "      <td>619</td>\n",
       "      <td>France</td>\n",
       "      <td>Female</td>\n",
       "      <td>42</td>\n",
       "      <td>2</td>\n",
       "      <td>0.00</td>\n",
       "      <td>1</td>\n",
       "      <td>1</td>\n",
       "      <td>1</td>\n",
       "      <td>101348.88</td>\n",
       "      <td>1</td>\n",
       "    </tr>\n",
       "    <tr>\n",
       "      <th>1</th>\n",
       "      <td>2</td>\n",
       "      <td>15647311</td>\n",
       "      <td>Hill</td>\n",
       "      <td>608</td>\n",
       "      <td>Spain</td>\n",
       "      <td>Female</td>\n",
       "      <td>41</td>\n",
       "      <td>1</td>\n",
       "      <td>83807.86</td>\n",
       "      <td>1</td>\n",
       "      <td>0</td>\n",
       "      <td>1</td>\n",
       "      <td>112542.58</td>\n",
       "      <td>0</td>\n",
       "    </tr>\n",
       "    <tr>\n",
       "      <th>2</th>\n",
       "      <td>3</td>\n",
       "      <td>15619304</td>\n",
       "      <td>Onio</td>\n",
       "      <td>502</td>\n",
       "      <td>France</td>\n",
       "      <td>Female</td>\n",
       "      <td>42</td>\n",
       "      <td>8</td>\n",
       "      <td>159660.80</td>\n",
       "      <td>3</td>\n",
       "      <td>1</td>\n",
       "      <td>0</td>\n",
       "      <td>113931.57</td>\n",
       "      <td>1</td>\n",
       "    </tr>\n",
       "    <tr>\n",
       "      <th>3</th>\n",
       "      <td>4</td>\n",
       "      <td>15701354</td>\n",
       "      <td>Boni</td>\n",
       "      <td>699</td>\n",
       "      <td>France</td>\n",
       "      <td>Female</td>\n",
       "      <td>39</td>\n",
       "      <td>1</td>\n",
       "      <td>0.00</td>\n",
       "      <td>2</td>\n",
       "      <td>0</td>\n",
       "      <td>0</td>\n",
       "      <td>93826.63</td>\n",
       "      <td>0</td>\n",
       "    </tr>\n",
       "    <tr>\n",
       "      <th>4</th>\n",
       "      <td>5</td>\n",
       "      <td>15737888</td>\n",
       "      <td>Mitchell</td>\n",
       "      <td>850</td>\n",
       "      <td>Spain</td>\n",
       "      <td>Female</td>\n",
       "      <td>43</td>\n",
       "      <td>2</td>\n",
       "      <td>125510.82</td>\n",
       "      <td>1</td>\n",
       "      <td>1</td>\n",
       "      <td>1</td>\n",
       "      <td>79084.10</td>\n",
       "      <td>0</td>\n",
       "    </tr>\n",
       "  </tbody>\n",
       "</table>\n",
       "</div>"
      ],
      "text/plain": [
       "   RowNumber  CustomerId   Surname  CreditScore Geography  Gender  Age  \\\n",
       "0          1    15634602  Hargrave          619    France  Female   42   \n",
       "1          2    15647311      Hill          608     Spain  Female   41   \n",
       "2          3    15619304      Onio          502    France  Female   42   \n",
       "3          4    15701354      Boni          699    France  Female   39   \n",
       "4          5    15737888  Mitchell          850     Spain  Female   43   \n",
       "\n",
       "   Tenure    Balance  NumOfProducts  HasCrCard  IsActiveMember  \\\n",
       "0       2       0.00              1          1               1   \n",
       "1       1   83807.86              1          0               1   \n",
       "2       8  159660.80              3          1               0   \n",
       "3       1       0.00              2          0               0   \n",
       "4       2  125510.82              1          1               1   \n",
       "\n",
       "   EstimatedSalary  Exited  \n",
       "0        101348.88       1  \n",
       "1        112542.58       0  \n",
       "2        113931.57       1  \n",
       "3         93826.63       0  \n",
       "4         79084.10       0  "
      ]
     },
     "execution_count": 3,
     "metadata": {},
     "output_type": "execute_result"
    }
   ],
   "source": [
    "data = pd.read_csv('../input/churn-data/churn_data.csv')\n",
    "data.head(5)"
   ]
  },
  {
   "cell_type": "code",
   "execution_count": 4,
   "id": "cc79e11e",
   "metadata": {
    "execution": {
     "iopub.execute_input": "2022-10-23T08:57:35.685099Z",
     "iopub.status.busy": "2022-10-23T08:57:35.684438Z",
     "iopub.status.idle": "2022-10-23T08:57:35.702810Z",
     "shell.execute_reply": "2022-10-23T08:57:35.701565Z"
    },
    "papermill": {
     "duration": 0.03108,
     "end_time": "2022-10-23T08:57:35.705407",
     "exception": false,
     "start_time": "2022-10-23T08:57:35.674327",
     "status": "completed"
    },
    "tags": []
   },
   "outputs": [
    {
     "data": {
      "text/plain": [
       "0    7963\n",
       "1    2037\n",
       "Name: Exited, dtype: int64"
      ]
     },
     "execution_count": 4,
     "metadata": {},
     "output_type": "execute_result"
    }
   ],
   "source": [
    "data['Exited'].value_counts()"
   ]
  },
  {
   "cell_type": "code",
   "execution_count": 5,
   "id": "38d49464",
   "metadata": {
    "execution": {
     "iopub.execute_input": "2022-10-23T08:57:35.723778Z",
     "iopub.status.busy": "2022-10-23T08:57:35.723082Z",
     "iopub.status.idle": "2022-10-23T08:57:35.735585Z",
     "shell.execute_reply": "2022-10-23T08:57:35.734384Z"
    },
    "papermill": {
     "duration": 0.024637,
     "end_time": "2022-10-23T08:57:35.738280",
     "exception": false,
     "start_time": "2022-10-23T08:57:35.713643",
     "status": "completed"
    },
    "tags": []
   },
   "outputs": [],
   "source": [
    "X_train, X_test, y_train, y_test = train_test_split(data, data['Exited'], random_state = 50)"
   ]
  },
  {
   "cell_type": "code",
   "execution_count": 6,
   "id": "1939e589",
   "metadata": {
    "execution": {
     "iopub.execute_input": "2022-10-23T08:57:35.757864Z",
     "iopub.status.busy": "2022-10-23T08:57:35.757385Z",
     "iopub.status.idle": "2022-10-23T08:57:35.769831Z",
     "shell.execute_reply": "2022-10-23T08:57:35.768448Z"
    },
    "papermill": {
     "duration": 0.02453,
     "end_time": "2022-10-23T08:57:35.772526",
     "exception": false,
     "start_time": "2022-10-23T08:57:35.747996",
     "status": "completed"
    },
    "tags": []
   },
   "outputs": [],
   "source": [
    "class FeatureSelector(BaseEstimator, TransformerMixin):\n",
    "    def __init__(self, column):\n",
    "        self.column = column\n",
    "\n",
    "    def fit(self, X, y=None):\n",
    "        return self\n",
    "\n",
    "    def transform(self, X, y=None):\n",
    "        return X[self.column]\n",
    "    \n",
    "class NumberSelector(BaseEstimator, TransformerMixin):\n",
    "    \"\"\"\n",
    "    Transformer to select a single column from the data frame to perform additional transformations on\n",
    "    Use on numeric columns in the data\n",
    "    \"\"\"\n",
    "    def __init__(self, key):\n",
    "        self.key = key\n",
    "\n",
    "    def fit(self, X, y=None):\n",
    "        return self\n",
    "\n",
    "    def transform(self, X):\n",
    "        return X[[self.key]]\n",
    "    \n",
    "class OHEEncoder(BaseEstimator, TransformerMixin):\n",
    "    def __init__(self, key):\n",
    "        self.key = key\n",
    "        self.columns = []\n",
    "\n",
    "    def fit(self, X, y=None):\n",
    "        self.columns = [col for col in pd.get_dummies(X, prefix=self.key).columns]\n",
    "        return self\n",
    "\n",
    "    def transform(self, X):\n",
    "        X = pd.get_dummies(X, prefix=self.key)\n",
    "        test_columns = [col for col in X.columns]\n",
    "        for col_ in self.columns:\n",
    "            if col_ not in test_columns:\n",
    "                X[col_] = 0\n",
    "        return X[self.columns]"
   ]
  },
  {
   "cell_type": "code",
   "execution_count": 7,
   "id": "b00fbaa5",
   "metadata": {
    "execution": {
     "iopub.execute_input": "2022-10-23T08:57:35.791251Z",
     "iopub.status.busy": "2022-10-23T08:57:35.790831Z",
     "iopub.status.idle": "2022-10-23T08:57:35.796739Z",
     "shell.execute_reply": "2022-10-23T08:57:35.795548Z"
    },
    "papermill": {
     "duration": 0.017835,
     "end_time": "2022-10-23T08:57:35.799082",
     "exception": false,
     "start_time": "2022-10-23T08:57:35.781247",
     "status": "completed"
    },
    "tags": []
   },
   "outputs": [],
   "source": [
    "categorical_columns = ['Geography', 'Gender', 'Tenure', 'HasCrCard', 'IsActiveMember']\n",
    "continuous_columns = ['CreditScore', 'Age', 'Balance', 'NumOfProducts', 'EstimatedSalary']"
   ]
  },
  {
   "cell_type": "code",
   "execution_count": 8,
   "id": "07c01f0b",
   "metadata": {
    "execution": {
     "iopub.execute_input": "2022-10-23T08:57:35.817637Z",
     "iopub.status.busy": "2022-10-23T08:57:35.816788Z",
     "iopub.status.idle": "2022-10-23T08:57:35.825032Z",
     "shell.execute_reply": "2022-10-23T08:57:35.823813Z"
    },
    "papermill": {
     "duration": 0.020389,
     "end_time": "2022-10-23T08:57:35.827664",
     "exception": false,
     "start_time": "2022-10-23T08:57:35.807275",
     "status": "completed"
    },
    "tags": []
   },
   "outputs": [],
   "source": [
    "final_transformers = list()\n",
    "\n",
    "for cat_col in categorical_columns:\n",
    "    cat_transformer = Pipeline([\n",
    "                ('selector', FeatureSelector(column=cat_col)),\n",
    "                ('ohe', OHEEncoder(key=cat_col))\n",
    "            ])\n",
    "    final_transformers.append((cat_col, cat_transformer))\n",
    "    \n",
    "for cont_col in continuous_columns:\n",
    "    cont_transformer = Pipeline([\n",
    "                ('selector', NumberSelector(key=cont_col)),\n",
    "                ('standard', StandardScaler())\n",
    "            ])\n",
    "    final_transformers.append((cont_col, cont_transformer))"
   ]
  },
  {
   "cell_type": "code",
   "execution_count": 9,
   "id": "df1402b7",
   "metadata": {
    "execution": {
     "iopub.execute_input": "2022-10-23T08:57:35.846372Z",
     "iopub.status.busy": "2022-10-23T08:57:35.845663Z",
     "iopub.status.idle": "2022-10-23T08:57:35.850454Z",
     "shell.execute_reply": "2022-10-23T08:57:35.849692Z"
    },
    "papermill": {
     "duration": 0.0168,
     "end_time": "2022-10-23T08:57:35.852774",
     "exception": false,
     "start_time": "2022-10-23T08:57:35.835974",
     "status": "completed"
    },
    "tags": []
   },
   "outputs": [],
   "source": [
    "feats = FeatureUnion(final_transformers)\n",
    "\n",
    "feature_processing = Pipeline([('feats', feats)])"
   ]
  },
  {
   "cell_type": "markdown",
   "id": "baed034e",
   "metadata": {
    "papermill": {
     "duration": 0.007762,
     "end_time": "2022-10-23T08:57:35.868670",
     "exception": false,
     "start_time": "2022-10-23T08:57:35.860908",
     "status": "completed"
    },
    "tags": []
   },
   "source": [
    "### Задание №1\n",
    "\n",
    "#### Boosting"
   ]
  },
  {
   "cell_type": "code",
   "execution_count": 10,
   "id": "6753ed29",
   "metadata": {
    "execution": {
     "iopub.execute_input": "2022-10-23T08:57:35.887002Z",
     "iopub.status.busy": "2022-10-23T08:57:35.886235Z",
     "iopub.status.idle": "2022-10-23T08:57:35.890608Z",
     "shell.execute_reply": "2022-10-23T08:57:35.889768Z"
    },
    "papermill": {
     "duration": 0.01601,
     "end_time": "2022-10-23T08:57:35.892778",
     "exception": false,
     "start_time": "2022-10-23T08:57:35.876768",
     "status": "completed"
    },
    "tags": []
   },
   "outputs": [],
   "source": [
    "model_gbc = GradientBoostingClassifier(random_state=50)"
   ]
  },
  {
   "cell_type": "code",
   "execution_count": 11,
   "id": "56ff9e4c",
   "metadata": {
    "execution": {
     "iopub.execute_input": "2022-10-23T08:57:35.911254Z",
     "iopub.status.busy": "2022-10-23T08:57:35.910571Z",
     "iopub.status.idle": "2022-10-23T08:57:37.236428Z",
     "shell.execute_reply": "2022-10-23T08:57:37.235211Z"
    },
    "papermill": {
     "duration": 1.338183,
     "end_time": "2022-10-23T08:57:37.239137",
     "exception": false,
     "start_time": "2022-10-23T08:57:35.900954",
     "status": "completed"
    },
    "tags": []
   },
   "outputs": [
    {
     "data": {
      "text/plain": [
       "Pipeline(steps=[('features',\n",
       "                 FeatureUnion(transformer_list=[('Geography',\n",
       "                                                 Pipeline(steps=[('selector',\n",
       "                                                                  FeatureSelector(column='Geography')),\n",
       "                                                                 ('ohe',\n",
       "                                                                  OHEEncoder(key='Geography'))])),\n",
       "                                                ('Gender',\n",
       "                                                 Pipeline(steps=[('selector',\n",
       "                                                                  FeatureSelector(column='Gender')),\n",
       "                                                                 ('ohe',\n",
       "                                                                  OHEEncoder(key='Gender'))])),\n",
       "                                                ('Tenure',\n",
       "                                                 Pipeline(steps=[('selector',\n",
       "                                                                  FeatureSelector(column='Tenu...\n",
       "                                                                  NumberSelector(key='Balance')),\n",
       "                                                                 ('standard',\n",
       "                                                                  StandardScaler())])),\n",
       "                                                ('NumOfProducts',\n",
       "                                                 Pipeline(steps=[('selector',\n",
       "                                                                  NumberSelector(key='NumOfProducts')),\n",
       "                                                                 ('standard',\n",
       "                                                                  StandardScaler())])),\n",
       "                                                ('EstimatedSalary',\n",
       "                                                 Pipeline(steps=[('selector',\n",
       "                                                                  NumberSelector(key='EstimatedSalary')),\n",
       "                                                                 ('standard',\n",
       "                                                                  StandardScaler())]))])),\n",
       "                ('model', GradientBoostingClassifier(random_state=50))])"
      ]
     },
     "execution_count": 11,
     "metadata": {},
     "output_type": "execute_result"
    }
   ],
   "source": [
    "pipeline = Pipeline([('features', feats), ('model', model_gbc)])\n",
    "pipeline.fit(X_train, y_train)"
   ]
  },
  {
   "cell_type": "code",
   "execution_count": 12,
   "id": "5e18dee0",
   "metadata": {
    "execution": {
     "iopub.execute_input": "2022-10-23T08:57:37.258175Z",
     "iopub.status.busy": "2022-10-23T08:57:37.257762Z",
     "iopub.status.idle": "2022-10-23T08:57:37.291179Z",
     "shell.execute_reply": "2022-10-23T08:57:37.289889Z"
    },
    "papermill": {
     "duration": 0.045728,
     "end_time": "2022-10-23T08:57:37.293616",
     "exception": false,
     "start_time": "2022-10-23T08:57:37.247888",
     "status": "completed"
    },
    "tags": []
   },
   "outputs": [
    {
     "data": {
      "text/plain": [
       "array([0.54667745, 0.03412696, 0.30911914, 0.21279085, 0.07268106,\n",
       "       0.08764192, 0.01234402, 0.07340383, 0.94748746, 0.0531532 ])"
      ]
     },
     "execution_count": 12,
     "metadata": {},
     "output_type": "execute_result"
    }
   ],
   "source": [
    "preds = pipeline.predict_proba(X_test)[:, 1]\n",
    "preds[:10]"
   ]
  },
  {
   "cell_type": "code",
   "execution_count": 13,
   "id": "1d73093c",
   "metadata": {
    "execution": {
     "iopub.execute_input": "2022-10-23T08:57:37.313057Z",
     "iopub.status.busy": "2022-10-23T08:57:37.312678Z",
     "iopub.status.idle": "2022-10-23T08:57:37.324223Z",
     "shell.execute_reply": "2022-10-23T08:57:37.323075Z"
    },
    "papermill": {
     "duration": 0.02507,
     "end_time": "2022-10-23T08:57:37.327269",
     "exception": false,
     "start_time": "2022-10-23T08:57:37.302199",
     "status": "completed"
    },
    "tags": []
   },
   "outputs": [
    {
     "name": "stdout",
     "output_type": "stream",
     "text": [
      "Best Threshold=0.312227, F-Score=0.601, Precision=0.585, Recall=0.617\n"
     ]
    }
   ],
   "source": [
    "precision, recall, thresholds = precision_recall_curve(y_test, preds)\n",
    "\n",
    "fscore = (2 * precision * recall) / (precision + recall)\n",
    "ix_gbc = np.argmax(fscore)\n",
    "results_gbc = (thresholds[ix_gbc], fscore[ix_gbc], precision[ix_gbc], recall[ix_gbc])\n",
    "print('Best Threshold=%f, F-Score=%.3f, Precision=%.3f, Recall=%.3f' % (results_gbc))"
   ]
  },
  {
   "cell_type": "markdown",
   "id": "be65ce68",
   "metadata": {
    "papermill": {
     "duration": 0.008256,
     "end_time": "2022-10-23T08:57:37.344233",
     "exception": false,
     "start_time": "2022-10-23T08:57:37.335977",
     "status": "completed"
    },
    "tags": []
   },
   "source": [
    "#### Logistic Regression"
   ]
  },
  {
   "cell_type": "code",
   "execution_count": 14,
   "id": "c86030af",
   "metadata": {
    "execution": {
     "iopub.execute_input": "2022-10-23T08:57:37.363412Z",
     "iopub.status.busy": "2022-10-23T08:57:37.362525Z",
     "iopub.status.idle": "2022-10-23T08:57:37.368393Z",
     "shell.execute_reply": "2022-10-23T08:57:37.367100Z"
    },
    "papermill": {
     "duration": 0.018287,
     "end_time": "2022-10-23T08:57:37.370969",
     "exception": false,
     "start_time": "2022-10-23T08:57:37.352682",
     "status": "completed"
    },
    "tags": []
   },
   "outputs": [],
   "source": [
    "model_lr = LogisticRegression(solver='lbfgs', random_state=50)"
   ]
  },
  {
   "cell_type": "code",
   "execution_count": 15,
   "id": "c76bf46c",
   "metadata": {
    "execution": {
     "iopub.execute_input": "2022-10-23T08:57:37.390810Z",
     "iopub.status.busy": "2022-10-23T08:57:37.390305Z",
     "iopub.status.idle": "2022-10-23T08:57:37.666839Z",
     "shell.execute_reply": "2022-10-23T08:57:37.665311Z"
    },
    "papermill": {
     "duration": 0.289547,
     "end_time": "2022-10-23T08:57:37.669695",
     "exception": false,
     "start_time": "2022-10-23T08:57:37.380148",
     "status": "completed"
    },
    "tags": []
   },
   "outputs": [
    {
     "data": {
      "text/plain": [
       "Pipeline(steps=[('features',\n",
       "                 FeatureUnion(transformer_list=[('Geography',\n",
       "                                                 Pipeline(steps=[('selector',\n",
       "                                                                  FeatureSelector(column='Geography')),\n",
       "                                                                 ('ohe',\n",
       "                                                                  OHEEncoder(key='Geography'))])),\n",
       "                                                ('Gender',\n",
       "                                                 Pipeline(steps=[('selector',\n",
       "                                                                  FeatureSelector(column='Gender')),\n",
       "                                                                 ('ohe',\n",
       "                                                                  OHEEncoder(key='Gender'))])),\n",
       "                                                ('Tenure',\n",
       "                                                 Pipeline(steps=[('selector',\n",
       "                                                                  FeatureSelector(column='Tenu...\n",
       "                                                 Pipeline(steps=[('selector',\n",
       "                                                                  NumberSelector(key='Balance')),\n",
       "                                                                 ('standard',\n",
       "                                                                  StandardScaler())])),\n",
       "                                                ('NumOfProducts',\n",
       "                                                 Pipeline(steps=[('selector',\n",
       "                                                                  NumberSelector(key='NumOfProducts')),\n",
       "                                                                 ('standard',\n",
       "                                                                  StandardScaler())])),\n",
       "                                                ('EstimatedSalary',\n",
       "                                                 Pipeline(steps=[('selector',\n",
       "                                                                  NumberSelector(key='EstimatedSalary')),\n",
       "                                                                 ('standard',\n",
       "                                                                  StandardScaler())]))])),\n",
       "                ('model', LogisticRegression(random_state=50))])"
      ]
     },
     "execution_count": 15,
     "metadata": {},
     "output_type": "execute_result"
    }
   ],
   "source": [
    "pipeline = Pipeline([('features', feats), ('model', model_lr)])\n",
    "pipeline.fit(X_train, y_train)"
   ]
  },
  {
   "cell_type": "code",
   "execution_count": 16,
   "id": "a7b6de1c",
   "metadata": {
    "execution": {
     "iopub.execute_input": "2022-10-23T08:57:37.690129Z",
     "iopub.status.busy": "2022-10-23T08:57:37.688750Z",
     "iopub.status.idle": "2022-10-23T08:57:37.724410Z",
     "shell.execute_reply": "2022-10-23T08:57:37.722922Z"
    },
    "papermill": {
     "duration": 0.050013,
     "end_time": "2022-10-23T08:57:37.728596",
     "exception": false,
     "start_time": "2022-10-23T08:57:37.678583",
     "status": "completed"
    },
    "tags": []
   },
   "outputs": [
    {
     "data": {
      "text/plain": [
       "array([0.65021462, 0.10354659, 0.22985545, 0.11526717, 0.19874392,\n",
       "       0.13662433, 0.02553101, 0.2783181 , 0.86177097, 0.07070902])"
      ]
     },
     "execution_count": 16,
     "metadata": {},
     "output_type": "execute_result"
    }
   ],
   "source": [
    "preds = pipeline.predict_proba(X_test)[:, 1]\n",
    "preds[:10]"
   ]
  },
  {
   "cell_type": "code",
   "execution_count": 17,
   "id": "bcd54f18",
   "metadata": {
    "execution": {
     "iopub.execute_input": "2022-10-23T08:57:37.775904Z",
     "iopub.status.busy": "2022-10-23T08:57:37.775174Z",
     "iopub.status.idle": "2022-10-23T08:57:37.788914Z",
     "shell.execute_reply": "2022-10-23T08:57:37.787468Z"
    },
    "papermill": {
     "duration": 0.041783,
     "end_time": "2022-10-23T08:57:37.792673",
     "exception": false,
     "start_time": "2022-10-23T08:57:37.750890",
     "status": "completed"
    },
    "tags": []
   },
   "outputs": [
    {
     "name": "stdout",
     "output_type": "stream",
     "text": [
      "Best Threshold=0.340264, F-Score=0.476, Precision=0.475, Recall=0.477\n"
     ]
    }
   ],
   "source": [
    "precision, recall, thresholds = precision_recall_curve(y_test, preds)\n",
    "\n",
    "fscore = (2 * precision * recall) / (precision + recall)\n",
    "ix_lr = np.argmax(fscore)\n",
    "results_lr = (thresholds[ix_lr], fscore[ix_lr], precision[ix_lr], recall[ix_lr])\n",
    "print('Best Threshold=%f, F-Score=%.3f, Precision=%.3f, Recall=%.3f' % (results_lr))"
   ]
  },
  {
   "cell_type": "markdown",
   "id": "9b2c4836",
   "metadata": {
    "papermill": {
     "duration": 0.019436,
     "end_time": "2022-10-23T08:57:37.835268",
     "exception": false,
     "start_time": "2022-10-23T08:57:37.815832",
     "status": "completed"
    },
    "tags": []
   },
   "source": [
    "### Задание №2"
   ]
  },
  {
   "cell_type": "code",
   "execution_count": 18,
   "id": "55093d03",
   "metadata": {
    "execution": {
     "iopub.execute_input": "2022-10-23T08:57:37.854641Z",
     "iopub.status.busy": "2022-10-23T08:57:37.854239Z",
     "iopub.status.idle": "2022-10-23T08:57:37.862974Z",
     "shell.execute_reply": "2022-10-23T08:57:37.861717Z"
    },
    "papermill": {
     "duration": 0.021646,
     "end_time": "2022-10-23T08:57:37.865634",
     "exception": false,
     "start_time": "2022-10-23T08:57:37.843988",
     "status": "completed"
    },
    "tags": []
   },
   "outputs": [],
   "source": [
    "results = pd.DataFrame([results_gbc, results_lr], columns=['Best Threshold', 'F-Score', 'Precision', 'Recall'])\n",
    "\n",
    "results['models'] = ['GradientBoostingClassifier', 'LogisticRegression']\n",
    "results = results.set_index('models')"
   ]
  },
  {
   "cell_type": "code",
   "execution_count": 19,
   "id": "5a8a6cc4",
   "metadata": {
    "execution": {
     "iopub.execute_input": "2022-10-23T08:57:37.885692Z",
     "iopub.status.busy": "2022-10-23T08:57:37.885263Z",
     "iopub.status.idle": "2022-10-23T08:57:37.898325Z",
     "shell.execute_reply": "2022-10-23T08:57:37.897020Z"
    },
    "papermill": {
     "duration": 0.026236,
     "end_time": "2022-10-23T08:57:37.900820",
     "exception": false,
     "start_time": "2022-10-23T08:57:37.874584",
     "status": "completed"
    },
    "tags": []
   },
   "outputs": [
    {
     "data": {
      "text/html": [
       "<div>\n",
       "<style scoped>\n",
       "    .dataframe tbody tr th:only-of-type {\n",
       "        vertical-align: middle;\n",
       "    }\n",
       "\n",
       "    .dataframe tbody tr th {\n",
       "        vertical-align: top;\n",
       "    }\n",
       "\n",
       "    .dataframe thead th {\n",
       "        text-align: right;\n",
       "    }\n",
       "</style>\n",
       "<table border=\"1\" class=\"dataframe\">\n",
       "  <thead>\n",
       "    <tr style=\"text-align: right;\">\n",
       "      <th></th>\n",
       "      <th>Best Threshold</th>\n",
       "      <th>F-Score</th>\n",
       "      <th>Precision</th>\n",
       "      <th>Recall</th>\n",
       "    </tr>\n",
       "    <tr>\n",
       "      <th>models</th>\n",
       "      <th></th>\n",
       "      <th></th>\n",
       "      <th></th>\n",
       "      <th></th>\n",
       "    </tr>\n",
       "  </thead>\n",
       "  <tbody>\n",
       "    <tr>\n",
       "      <th>GradientBoostingClassifier</th>\n",
       "      <td>0.312227</td>\n",
       "      <td>0.600583</td>\n",
       "      <td>0.585227</td>\n",
       "      <td>0.616766</td>\n",
       "    </tr>\n",
       "    <tr>\n",
       "      <th>LogisticRegression</th>\n",
       "      <td>0.340264</td>\n",
       "      <td>0.476096</td>\n",
       "      <td>0.475149</td>\n",
       "      <td>0.477046</td>\n",
       "    </tr>\n",
       "  </tbody>\n",
       "</table>\n",
       "</div>"
      ],
      "text/plain": [
       "                            Best Threshold   F-Score  Precision    Recall\n",
       "models                                                                   \n",
       "GradientBoostingClassifier        0.312227  0.600583   0.585227  0.616766\n",
       "LogisticRegression                0.340264  0.476096   0.475149  0.477046"
      ]
     },
     "execution_count": 19,
     "metadata": {},
     "output_type": "execute_result"
    }
   ],
   "source": [
    "results.sort_values(by='F-Score', axis=0, ascending=False)"
   ]
  },
  {
   "cell_type": "markdown",
   "id": "f05cfaeb",
   "metadata": {
    "papermill": {
     "duration": 0.008945,
     "end_time": "2022-10-23T08:57:37.918922",
     "exception": false,
     "start_time": "2022-10-23T08:57:37.909977",
     "status": "completed"
    },
    "tags": []
   },
   "source": [
    "**В результате мы видим что бустинг показывает более высокий метки. У логистической регрессии можно заметить что Recall значительно превышает Precision. \n",
    "Как следствие можно сделать следующий вывод: Recall в данном случае говорит о том что данную долю клиентов можно попытаться удержать (бустинг ~58,5%, логистическая регрессия ~47,5%) предложив например специальные условия для удержания последних.\n",
    "При этом Precision показывает, что для всех клиентов, которые уходят и получают при этом спецпредложения, обратная доля клиентов удовлетворена услугой и не нуждается в удержании (бустинг ~38,3%, логистическая регрессия ~52,3%) как следствие дополнительные финансовые вливания не являются необходимыми. \n",
    "Precision в случае использования логистической регрессии достаточно низкий, а значит модель делает Positive классификаций. Исходя из полученных данных можно сделать следующий вывод, что лучше использовать бустинг, так как наша задача - как можно более точно определить количество клиентов которые нас покинут. Оптимизируя финансовые затраты на привлечение клиентов которые всё равно так уйдут.**"
   ]
  },
  {
   "cell_type": "markdown",
   "id": "95a1a6f5",
   "metadata": {
    "papermill": {
     "duration": 0.009136,
     "end_time": "2022-10-23T08:57:37.938038",
     "exception": false,
     "start_time": "2022-10-23T08:57:37.928902",
     "status": "completed"
    },
    "tags": []
   },
   "source": [
    "### Задание №3"
   ]
  },
  {
   "cell_type": "code",
   "execution_count": 20,
   "id": "b3f7cd95",
   "metadata": {
    "execution": {
     "iopub.execute_input": "2022-10-23T08:57:37.957992Z",
     "iopub.status.busy": "2022-10-23T08:57:37.957600Z",
     "iopub.status.idle": "2022-10-23T08:57:37.966576Z",
     "shell.execute_reply": "2022-10-23T08:57:37.965192Z"
    },
    "papermill": {
     "duration": 0.022337,
     "end_time": "2022-10-23T08:57:37.969396",
     "exception": false,
     "start_time": "2022-10-23T08:57:37.947059",
     "status": "completed"
    },
    "tags": []
   },
   "outputs": [
    {
     "name": "stdout",
     "output_type": "stream",
     "text": [
      "[[1557  442]\n",
      " [ 218  283]]\n"
     ]
    }
   ],
   "source": [
    "# GradientBoostingClassifier\n",
    "\n",
    "cnf_matrix_gbc = confusion_matrix(y_test, preds>thresholds[ix_gbc])\n",
    "print(cnf_matrix_gbc)"
   ]
  },
  {
   "cell_type": "code",
   "execution_count": 21,
   "id": "f4c866c0",
   "metadata": {
    "execution": {
     "iopub.execute_input": "2022-10-23T08:57:37.989720Z",
     "iopub.status.busy": "2022-10-23T08:57:37.989314Z",
     "iopub.status.idle": "2022-10-23T08:57:37.995180Z",
     "shell.execute_reply": "2022-10-23T08:57:37.993847Z"
    },
    "papermill": {
     "duration": 0.01899,
     "end_time": "2022-10-23T08:57:37.997794",
     "exception": false,
     "start_time": "2022-10-23T08:57:37.978804",
     "status": "completed"
    },
    "tags": []
   },
   "outputs": [
    {
     "name": "stdout",
     "output_type": "stream",
     "text": [
      "TN = 1557, FP = 442\n",
      "FN = 218, TP = 283\n"
     ]
    }
   ],
   "source": [
    "print(f'TN = {cnf_matrix_gbc[0][0]}, FP = {cnf_matrix_gbc[0][1]}\\nFN = {cnf_matrix_gbc[1][0]}, TP = {cnf_matrix_gbc[1][1]}')"
   ]
  },
  {
   "cell_type": "code",
   "execution_count": 22,
   "id": "7f6f4ebd",
   "metadata": {
    "execution": {
     "iopub.execute_input": "2022-10-23T08:57:38.018170Z",
     "iopub.status.busy": "2022-10-23T08:57:38.017782Z",
     "iopub.status.idle": "2022-10-23T08:57:38.025644Z",
     "shell.execute_reply": "2022-10-23T08:57:38.024253Z"
    },
    "papermill": {
     "duration": 0.021343,
     "end_time": "2022-10-23T08:57:38.028362",
     "exception": false,
     "start_time": "2022-10-23T08:57:38.007019",
     "status": "completed"
    },
    "tags": []
   },
   "outputs": [
    {
     "name": "stdout",
     "output_type": "stream",
     "text": [
      "[[1735  264]\n",
      " [ 263  238]]\n"
     ]
    }
   ],
   "source": [
    "# LogisticRegression\n",
    "\n",
    "cnf_matrix_lr = confusion_matrix(y_test, preds>thresholds[ix_lr])\n",
    "print(cnf_matrix_lr)"
   ]
  },
  {
   "cell_type": "code",
   "execution_count": 23,
   "id": "94a65a64",
   "metadata": {
    "execution": {
     "iopub.execute_input": "2022-10-23T08:57:38.048696Z",
     "iopub.status.busy": "2022-10-23T08:57:38.047985Z",
     "iopub.status.idle": "2022-10-23T08:57:38.054273Z",
     "shell.execute_reply": "2022-10-23T08:57:38.053086Z"
    },
    "papermill": {
     "duration": 0.019688,
     "end_time": "2022-10-23T08:57:38.057338",
     "exception": false,
     "start_time": "2022-10-23T08:57:38.037650",
     "status": "completed"
    },
    "tags": []
   },
   "outputs": [
    {
     "name": "stdout",
     "output_type": "stream",
     "text": [
      "TN = 1735, FP = 264\n",
      "FN = 263, TP = 238\n"
     ]
    }
   ],
   "source": [
    "print(f'TN = {cnf_matrix_lr[0][0]}, FP = {cnf_matrix_lr[0][1]}\\nFN = {cnf_matrix_lr[1][0]}, TP = {cnf_matrix_lr[1][1]}')"
   ]
  },
  {
   "cell_type": "code",
   "execution_count": 24,
   "id": "ce13d495",
   "metadata": {
    "execution": {
     "iopub.execute_input": "2022-10-23T08:57:38.077839Z",
     "iopub.status.busy": "2022-10-23T08:57:38.077428Z",
     "iopub.status.idle": "2022-10-23T08:57:38.083078Z",
     "shell.execute_reply": "2022-10-23T08:57:38.081891Z"
    },
    "papermill": {
     "duration": 0.018708,
     "end_time": "2022-10-23T08:57:38.085401",
     "exception": false,
     "start_time": "2022-10-23T08:57:38.066693",
     "status": "completed"
    },
    "tags": []
   },
   "outputs": [],
   "source": [
    "TP_gbc = cnf_matrix_gbc[1, 1]\n",
    "FP_gbc = cnf_matrix_gbc[0, 1]\n",
    "TP_lr = cnf_matrix_lr[1, 1]\n",
    "FP_lr = cnf_matrix_lr[0, 1]"
   ]
  },
  {
   "cell_type": "markdown",
   "id": "85c9999f",
   "metadata": {
    "papermill": {
     "duration": 0.008751,
     "end_time": "2022-10-23T08:57:38.103659",
     "exception": false,
     "start_time": "2022-10-23T08:57:38.094908",
     "status": "completed"
    },
    "tags": []
   },
   "source": [
    "**Произведём расчёт по формуле: Profit=(TP*2)-(TP+FP)**"
   ]
  },
  {
   "cell_type": "code",
   "execution_count": 25,
   "id": "669cdf0e",
   "metadata": {
    "execution": {
     "iopub.execute_input": "2022-10-23T08:57:38.123743Z",
     "iopub.status.busy": "2022-10-23T08:57:38.123160Z",
     "iopub.status.idle": "2022-10-23T08:57:38.130922Z",
     "shell.execute_reply": "2022-10-23T08:57:38.129824Z"
    },
    "papermill": {
     "duration": 0.020732,
     "end_time": "2022-10-23T08:57:38.133334",
     "exception": false,
     "start_time": "2022-10-23T08:57:38.112602",
     "status": "completed"
    },
    "tags": []
   },
   "outputs": [
    {
     "data": {
      "text/plain": [
       "-159"
      ]
     },
     "execution_count": 25,
     "metadata": {},
     "output_type": "execute_result"
    }
   ],
   "source": [
    "# GradientBoostingClassifier\n",
    "\n",
    "profit_gbc = (TP_gbc * 2) - (TP_gbc + FP_gbc)\n",
    "profit_gbc"
   ]
  },
  {
   "cell_type": "code",
   "execution_count": 26,
   "id": "f9abdbd4",
   "metadata": {
    "execution": {
     "iopub.execute_input": "2022-10-23T08:57:38.154384Z",
     "iopub.status.busy": "2022-10-23T08:57:38.154001Z",
     "iopub.status.idle": "2022-10-23T08:57:38.161014Z",
     "shell.execute_reply": "2022-10-23T08:57:38.159878Z"
    },
    "papermill": {
     "duration": 0.020595,
     "end_time": "2022-10-23T08:57:38.163342",
     "exception": false,
     "start_time": "2022-10-23T08:57:38.142747",
     "status": "completed"
    },
    "tags": []
   },
   "outputs": [
    {
     "data": {
      "text/plain": [
       "-26"
      ]
     },
     "execution_count": 26,
     "metadata": {},
     "output_type": "execute_result"
    }
   ],
   "source": [
    "# LogisticRegression\n",
    "\n",
    "profit_lr = (TP_lr * 2) - (TP_lr + FP_lr)\n",
    "profit_lr"
   ]
  }
 ],
 "metadata": {
  "kernelspec": {
   "display_name": "Python 3",
   "language": "python",
   "name": "python3"
  },
  "language_info": {
   "codemirror_mode": {
    "name": "ipython",
    "version": 3
   },
   "file_extension": ".py",
   "mimetype": "text/x-python",
   "name": "python",
   "nbconvert_exporter": "python",
   "pygments_lexer": "ipython3",
   "version": "3.7.12"
  },
  "papermill": {
   "default_parameters": {},
   "duration": 14.32136,
   "end_time": "2022-10-23T08:57:38.995744",
   "environment_variables": {},
   "exception": null,
   "input_path": "__notebook__.ipynb",
   "output_path": "__notebook__.ipynb",
   "parameters": {},
   "start_time": "2022-10-23T08:57:24.674384",
   "version": "2.3.4"
  }
 },
 "nbformat": 4,
 "nbformat_minor": 5
}
