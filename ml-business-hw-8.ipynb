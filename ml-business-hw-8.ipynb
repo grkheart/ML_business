{
 "cells": [
  {
   "cell_type": "code",
   "execution_count": 1,
   "id": "73704641",
   "metadata": {
    "_cell_guid": "b1076dfc-b9ad-4769-8c92-a6c4dae69d19",
    "_uuid": "8f2839f25d086af736a60e9eeb907d3b93b6e0e5",
    "execution": {
     "iopub.execute_input": "2022-11-16T10:11:27.650679Z",
     "iopub.status.busy": "2022-11-16T10:11:27.649854Z",
     "iopub.status.idle": "2022-11-16T10:11:27.670698Z",
     "shell.execute_reply": "2022-11-16T10:11:27.669563Z"
    },
    "papermill": {
     "duration": 0.035274,
     "end_time": "2022-11-16T10:11:27.674827",
     "exception": false,
     "start_time": "2022-11-16T10:11:27.639553",
     "status": "completed"
    },
    "tags": []
   },
   "outputs": [
    {
     "name": "stdout",
     "output_type": "stream",
     "text": [
      "/kaggle/input/ab-data-new/ab_data.csv\n"
     ]
    }
   ],
   "source": [
    "# This Python 3 environment comes with many helpful analytics libraries installed\n",
    "# It is defined by the kaggle/python Docker image: https://github.com/kaggle/docker-python\n",
    "# For example, here's several helpful packages to load\n",
    "\n",
    "import numpy as np # linear algebra\n",
    "import pandas as pd # data processing, CSV file I/O (e.g. pd.read_csv)\n",
    "\n",
    "# Input data files are available in the read-only \"../input/\" directory\n",
    "# For example, running this (by clicking run or pressing Shift+Enter) will list all files under the input directory\n",
    "\n",
    "import os\n",
    "for dirname, _, filenames in os.walk('/kaggle/input'):\n",
    "    for filename in filenames:\n",
    "        print(os.path.join(dirname, filename))\n",
    "\n",
    "# You can write up to 20GB to the current directory (/kaggle/working/) that gets preserved as output when you create a version using \"Save & Run All\" \n",
    "# You can also write temporary files to /kaggle/temp/, but they won't be saved outside of the current session"
   ]
  },
  {
   "cell_type": "markdown",
   "id": "18191cbf",
   "metadata": {
    "papermill": {
     "duration": 0.011647,
     "end_time": "2022-11-16T10:11:27.695103",
     "exception": false,
     "start_time": "2022-11-16T10:11:27.683456",
     "status": "completed"
    },
    "tags": []
   },
   "source": [
    "### Теоретическая часть\n",
    "**1. Если мы рассчитали 95% доверительный интервал для среднего значения, то какие из следующих утверждений являются верными?**\n",
    "Ответ: 2, 3\n",
    "\n",
    "2) Мы можем быть на 95% уверены, что среднее значение в генеральной совокупности принадлежит рассчитанному доверительному интервалу.\n",
    "\n",
    "3) Если многократно повторять эксперимент, для каждой выборки рассчитывать свой доверительный интервал, то в 95 % случаев истинное среднее будет находиться внутри доверительного интервала.\n",
    "**2. Если мы увеличиваем объём выборки в два раза (при условии, что показатель стандартного отклонения остается неизменным), то 95% доверительный интервал:**\n",
    "1) Стал более узким\n",
    "**3. В центре 95% доверительного интервала, рассчитанного по выборочным значениям, находится:**\n",
    "2) Выборочное среднее значение\n",
    "**4. Часто на практике нулевая гипотеза отклоняется, и различия считаются статистически достоверными, если p < 0,05. Однако часто в статистике используется более жёсткий критерий достоверности различий, например, при условии, что p < 0,01. Значение p-уровня значимости, которое выбирается, в качестве порога обозначается буквой α (альфа). Например, если исследователь решил, что α = 0,05, то и нулевая гипотеза будет отклоняться при условии, что p < 0,05.\n",
    "**\n",
    "\n",
    "Если в определённой ситуации весьма рискованно отклонить нулевую гипотезу, когда она на самом деле верна, то лучше использовать показатель α равный:\n",
    "2) 0,001\n",
    "**5. Данные некоторого исследования сообщают нам, что средний рост детей в 14 лет составляет 166 сантиметров. Однако это лишь выборочная оценка, и исследователи рассчитали 95% доверительный интервал, который составил [160, 172]. Укажите верные утверждения:\n",
    "1) У нас достаточно оснований отклонить нулевую гипотезу, что среднее в генеральной совокупности равняется 173.\n",
    "import pandas as pd\n",
    "import numpy as np\n",
    "import random\n",
    "import statsmodels.api as sm\n",
    "import statsmodels\n",
    "import scipy.stats as sts\n",
    "from sklearn.utils import resample\n",
    "import matplotlib.pyplot as plt\n",
    "%matplotlib inline\n",
    "\n",
    "random.seed(41)\n",
    "3) У нас достаточно оснований отклонить нулевую гипотезу, что среднее в генеральной совокупности равняется 158.\n",
    "\n",
    "**6. Предположим, нулевой гипотезой вашего исследования являлось предположение, что конверсия в генеральной совокупности равняется 0.4. Вы получили p = 0,12 и не смогли отклонить нулевую гипотезу. Однако позже выяснилось, что конверсия в генеральной совокупности действительно равна 0.4. Как можно оценить результаты?**\n",
    "1) Вы не совершали ни ошибку первого рода, ни ошибку второго рода.\n",
    "\n",
    "Так как ошибка первого рода заключается в том, чтобы отклонить верную нулевую гипотезу, то мы здесь её не совершаем, поскольку нулевую гипотезу не отклонили, а она оказалась верной. Ошибка второго рода заключается в том, чтобы принять нулевую гипотезу, когда верна альтернативная. Гипотезу приняли, но альтернативная гипотеза не является верной. Поэтому здесь не совершается ошибка ни первого рода, ни второго.\n"
   ]
  },
  {
   "cell_type": "code",
   "execution_count": 2,
   "id": "87947bf9",
   "metadata": {
    "execution": {
     "iopub.execute_input": "2022-11-16T10:11:27.712230Z",
     "iopub.status.busy": "2022-11-16T10:11:27.711845Z",
     "iopub.status.idle": "2022-11-16T10:11:29.752369Z",
     "shell.execute_reply": "2022-11-16T10:11:29.750939Z"
    },
    "papermill": {
     "duration": 2.052056,
     "end_time": "2022-11-16T10:11:29.755461",
     "exception": false,
     "start_time": "2022-11-16T10:11:27.703405",
     "status": "completed"
    },
    "tags": []
   },
   "outputs": [],
   "source": [
    "import pandas as pd\n",
    "import numpy as np\n",
    "import random\n",
    "import statsmodels.api as sm\n",
    "import statsmodels\n",
    "import scipy.stats as sts\n",
    "from sklearn.utils import resample\n",
    "import matplotlib.pyplot as plt\n",
    "%matplotlib inline\n",
    "\n",
    "random.seed(41)"
   ]
  },
  {
   "cell_type": "code",
   "execution_count": 3,
   "id": "d729d4c6",
   "metadata": {
    "execution": {
     "iopub.execute_input": "2022-11-16T10:11:29.771864Z",
     "iopub.status.busy": "2022-11-16T10:11:29.770530Z",
     "iopub.status.idle": "2022-11-16T10:11:30.572813Z",
     "shell.execute_reply": "2022-11-16T10:11:30.571543Z"
    },
    "papermill": {
     "duration": 0.812701,
     "end_time": "2022-11-16T10:11:30.575309",
     "exception": false,
     "start_time": "2022-11-16T10:11:29.762608",
     "status": "completed"
    },
    "tags": []
   },
   "outputs": [
    {
     "data": {
      "text/html": [
       "<div>\n",
       "<style scoped>\n",
       "    .dataframe tbody tr th:only-of-type {\n",
       "        vertical-align: middle;\n",
       "    }\n",
       "\n",
       "    .dataframe tbody tr th {\n",
       "        vertical-align: top;\n",
       "    }\n",
       "\n",
       "    .dataframe thead th {\n",
       "        text-align: right;\n",
       "    }\n",
       "</style>\n",
       "<table border=\"1\" class=\"dataframe\">\n",
       "  <thead>\n",
       "    <tr style=\"text-align: right;\">\n",
       "      <th></th>\n",
       "      <th>user_id</th>\n",
       "      <th>timestamp</th>\n",
       "      <th>group</th>\n",
       "      <th>landing_page</th>\n",
       "      <th>converted</th>\n",
       "    </tr>\n",
       "  </thead>\n",
       "  <tbody>\n",
       "    <tr>\n",
       "      <th>0</th>\n",
       "      <td>851104</td>\n",
       "      <td>2017-01-21 22:11:48.556739</td>\n",
       "      <td>control</td>\n",
       "      <td>old_page</td>\n",
       "      <td>0</td>\n",
       "    </tr>\n",
       "    <tr>\n",
       "      <th>1</th>\n",
       "      <td>804228</td>\n",
       "      <td>2017-01-12 08:01:45.159739</td>\n",
       "      <td>control</td>\n",
       "      <td>old_page</td>\n",
       "      <td>0</td>\n",
       "    </tr>\n",
       "    <tr>\n",
       "      <th>2</th>\n",
       "      <td>661590</td>\n",
       "      <td>2017-01-11 16:55:06.154213</td>\n",
       "      <td>treatment</td>\n",
       "      <td>new_page</td>\n",
       "      <td>0</td>\n",
       "    </tr>\n",
       "    <tr>\n",
       "      <th>3</th>\n",
       "      <td>853541</td>\n",
       "      <td>2017-01-08 18:28:03.143765</td>\n",
       "      <td>treatment</td>\n",
       "      <td>new_page</td>\n",
       "      <td>0</td>\n",
       "    </tr>\n",
       "    <tr>\n",
       "      <th>4</th>\n",
       "      <td>864975</td>\n",
       "      <td>2017-01-21 01:52:26.210827</td>\n",
       "      <td>control</td>\n",
       "      <td>old_page</td>\n",
       "      <td>1</td>\n",
       "    </tr>\n",
       "  </tbody>\n",
       "</table>\n",
       "</div>"
      ],
      "text/plain": [
       "   user_id                   timestamp      group landing_page  converted\n",
       "0   851104  2017-01-21 22:11:48.556739    control     old_page          0\n",
       "1   804228  2017-01-12 08:01:45.159739    control     old_page          0\n",
       "2   661590  2017-01-11 16:55:06.154213  treatment     new_page          0\n",
       "3   853541  2017-01-08 18:28:03.143765  treatment     new_page          0\n",
       "4   864975  2017-01-21 01:52:26.210827    control     old_page          1"
      ]
     },
     "execution_count": 3,
     "metadata": {},
     "output_type": "execute_result"
    }
   ],
   "source": [
    "df = pd.read_csv('../input/ab-data-new/ab_data.csv')\n",
    "df.head(5)"
   ]
  },
  {
   "cell_type": "code",
   "execution_count": 4,
   "id": "5d92d49d",
   "metadata": {
    "execution": {
     "iopub.execute_input": "2022-11-16T10:11:30.591617Z",
     "iopub.status.busy": "2022-11-16T10:11:30.590861Z",
     "iopub.status.idle": "2022-11-16T10:11:30.662458Z",
     "shell.execute_reply": "2022-11-16T10:11:30.660190Z"
    },
    "papermill": {
     "duration": 0.082874,
     "end_time": "2022-11-16T10:11:30.665568",
     "exception": false,
     "start_time": "2022-11-16T10:11:30.582694",
     "status": "completed"
    },
    "tags": []
   },
   "outputs": [
    {
     "name": "stdout",
     "output_type": "stream",
     "text": [
      "<class 'pandas.core.frame.DataFrame'>\n",
      "RangeIndex: 294478 entries, 0 to 294477\n",
      "Data columns (total 5 columns):\n",
      " #   Column        Non-Null Count   Dtype \n",
      "---  ------        --------------   ----- \n",
      " 0   user_id       294478 non-null  int64 \n",
      " 1   timestamp     294478 non-null  object\n",
      " 2   group         294478 non-null  object\n",
      " 3   landing_page  294478 non-null  object\n",
      " 4   converted     294478 non-null  int64 \n",
      "dtypes: int64(2), object(3)\n",
      "memory usage: 11.2+ MB\n"
     ]
    }
   ],
   "source": [
    "df.info()"
   ]
  },
  {
   "cell_type": "code",
   "execution_count": 5,
   "id": "7b5ea20f",
   "metadata": {
    "execution": {
     "iopub.execute_input": "2022-11-16T10:11:30.683732Z",
     "iopub.status.busy": "2022-11-16T10:11:30.682649Z",
     "iopub.status.idle": "2022-11-16T10:11:30.726974Z",
     "shell.execute_reply": "2022-11-16T10:11:30.726063Z"
    },
    "papermill": {
     "duration": 0.056082,
     "end_time": "2022-11-16T10:11:30.729540",
     "exception": false,
     "start_time": "2022-11-16T10:11:30.673458",
     "status": "completed"
    },
    "tags": []
   },
   "outputs": [
    {
     "data": {
      "text/html": [
       "<div>\n",
       "<style scoped>\n",
       "    .dataframe tbody tr th:only-of-type {\n",
       "        vertical-align: middle;\n",
       "    }\n",
       "\n",
       "    .dataframe tbody tr th {\n",
       "        vertical-align: top;\n",
       "    }\n",
       "\n",
       "    .dataframe thead th {\n",
       "        text-align: right;\n",
       "    }\n",
       "</style>\n",
       "<table border=\"1\" class=\"dataframe\">\n",
       "  <thead>\n",
       "    <tr style=\"text-align: right;\">\n",
       "      <th></th>\n",
       "      <th>user_id</th>\n",
       "      <th>converted</th>\n",
       "    </tr>\n",
       "  </thead>\n",
       "  <tbody>\n",
       "    <tr>\n",
       "      <th>count</th>\n",
       "      <td>294478.000000</td>\n",
       "      <td>294478.000000</td>\n",
       "    </tr>\n",
       "    <tr>\n",
       "      <th>mean</th>\n",
       "      <td>787974.124733</td>\n",
       "      <td>0.119659</td>\n",
       "    </tr>\n",
       "    <tr>\n",
       "      <th>std</th>\n",
       "      <td>91210.823776</td>\n",
       "      <td>0.324563</td>\n",
       "    </tr>\n",
       "    <tr>\n",
       "      <th>min</th>\n",
       "      <td>630000.000000</td>\n",
       "      <td>0.000000</td>\n",
       "    </tr>\n",
       "    <tr>\n",
       "      <th>25%</th>\n",
       "      <td>709032.250000</td>\n",
       "      <td>0.000000</td>\n",
       "    </tr>\n",
       "    <tr>\n",
       "      <th>50%</th>\n",
       "      <td>787933.500000</td>\n",
       "      <td>0.000000</td>\n",
       "    </tr>\n",
       "    <tr>\n",
       "      <th>75%</th>\n",
       "      <td>866911.750000</td>\n",
       "      <td>0.000000</td>\n",
       "    </tr>\n",
       "    <tr>\n",
       "      <th>max</th>\n",
       "      <td>945999.000000</td>\n",
       "      <td>1.000000</td>\n",
       "    </tr>\n",
       "  </tbody>\n",
       "</table>\n",
       "</div>"
      ],
      "text/plain": [
       "             user_id      converted\n",
       "count  294478.000000  294478.000000\n",
       "mean   787974.124733       0.119659\n",
       "std     91210.823776       0.324563\n",
       "min    630000.000000       0.000000\n",
       "25%    709032.250000       0.000000\n",
       "50%    787933.500000       0.000000\n",
       "75%    866911.750000       0.000000\n",
       "max    945999.000000       1.000000"
      ]
     },
     "execution_count": 5,
     "metadata": {},
     "output_type": "execute_result"
    }
   ],
   "source": [
    "df.describe()"
   ]
  },
  {
   "cell_type": "code",
   "execution_count": 6,
   "id": "bc34101b",
   "metadata": {
    "execution": {
     "iopub.execute_input": "2022-11-16T10:11:30.745812Z",
     "iopub.status.busy": "2022-11-16T10:11:30.745382Z",
     "iopub.status.idle": "2022-11-16T10:11:30.751959Z",
     "shell.execute_reply": "2022-11-16T10:11:30.750514Z"
    },
    "papermill": {
     "duration": 0.018233,
     "end_time": "2022-11-16T10:11:30.754936",
     "exception": false,
     "start_time": "2022-11-16T10:11:30.736703",
     "status": "completed"
    },
    "tags": []
   },
   "outputs": [
    {
     "name": "stdout",
     "output_type": "stream",
     "text": [
      "Число строк: 294478\n"
     ]
    }
   ],
   "source": [
    "n_rows = df.shape[0]\n",
    "print(f'Число строк: {n_rows}')"
   ]
  },
  {
   "cell_type": "code",
   "execution_count": 7,
   "id": "2f19ceaa",
   "metadata": {
    "execution": {
     "iopub.execute_input": "2022-11-16T10:11:30.773024Z",
     "iopub.status.busy": "2022-11-16T10:11:30.772591Z",
     "iopub.status.idle": "2022-11-16T10:11:30.940913Z",
     "shell.execute_reply": "2022-11-16T10:11:30.939109Z"
    },
    "papermill": {
     "duration": 0.181622,
     "end_time": "2022-11-16T10:11:30.944063",
     "exception": false,
     "start_time": "2022-11-16T10:11:30.762441",
     "status": "completed"
    },
    "tags": []
   },
   "outputs": [
    {
     "name": "stdout",
     "output_type": "stream",
     "text": [
      "Число уникальных пользователей: 290584\n"
     ]
    }
   ],
   "source": [
    "user_total = df.nunique()['user_id']\n",
    "print(f'Число уникальных пользователей: {user_total}')"
   ]
  },
  {
   "cell_type": "code",
   "execution_count": 8,
   "id": "6c6e8093",
   "metadata": {
    "execution": {
     "iopub.execute_input": "2022-11-16T10:11:30.960041Z",
     "iopub.status.busy": "2022-11-16T10:11:30.959605Z",
     "iopub.status.idle": "2022-11-16T10:11:31.027538Z",
     "shell.execute_reply": "2022-11-16T10:11:31.026189Z"
    },
    "papermill": {
     "duration": 0.079164,
     "end_time": "2022-11-16T10:11:31.030414",
     "exception": false,
     "start_time": "2022-11-16T10:11:30.951250",
     "status": "completed"
    },
    "tags": []
   },
   "outputs": [
    {
     "name": "stdout",
     "output_type": "stream",
     "text": [
      "Из тестовой группы неверно направлены 1965 пользователей\n",
      "Из контрольной группы неверно направлены 1928 пользователей\n"
     ]
    }
   ],
   "source": [
    "mismatch_1 = df.query(\"group == 'treatment' and landing_page == 'old_page'\")\n",
    "print(f'Из тестовой группы неверно направлены {len(mismatch_1)} пользователей')\n",
    "\n",
    "mismatch_2 = df.query(\"group == 'control' and landing_page == 'new_page'\")\n",
    "print(f'Из контрольной группы неверно направлены {len(mismatch_2)} пользователей')"
   ]
  },
  {
   "cell_type": "code",
   "execution_count": 9,
   "id": "42c90e2a",
   "metadata": {
    "execution": {
     "iopub.execute_input": "2022-11-16T10:11:31.047403Z",
     "iopub.status.busy": "2022-11-16T10:11:31.047015Z",
     "iopub.status.idle": "2022-11-16T10:11:31.159248Z",
     "shell.execute_reply": "2022-11-16T10:11:31.158048Z"
    },
    "papermill": {
     "duration": 0.123575,
     "end_time": "2022-11-16T10:11:31.162131",
     "exception": false,
     "start_time": "2022-11-16T10:11:31.038556",
     "status": "completed"
    },
    "tags": []
   },
   "outputs": [
    {
     "data": {
      "text/html": [
       "<div>\n",
       "<style scoped>\n",
       "    .dataframe tbody tr th:only-of-type {\n",
       "        vertical-align: middle;\n",
       "    }\n",
       "\n",
       "    .dataframe tbody tr th {\n",
       "        vertical-align: top;\n",
       "    }\n",
       "\n",
       "    .dataframe thead th {\n",
       "        text-align: right;\n",
       "    }\n",
       "</style>\n",
       "<table border=\"1\" class=\"dataframe\">\n",
       "  <thead>\n",
       "    <tr style=\"text-align: right;\">\n",
       "      <th></th>\n",
       "      <th></th>\n",
       "      <th>user_id</th>\n",
       "      <th>timestamp</th>\n",
       "      <th>converted</th>\n",
       "    </tr>\n",
       "    <tr>\n",
       "      <th>group</th>\n",
       "      <th>landing_page</th>\n",
       "      <th></th>\n",
       "      <th></th>\n",
       "      <th></th>\n",
       "    </tr>\n",
       "  </thead>\n",
       "  <tbody>\n",
       "    <tr>\n",
       "      <th rowspan=\"2\" valign=\"top\">control</th>\n",
       "      <th>new_page</th>\n",
       "      <td>1928</td>\n",
       "      <td>1928</td>\n",
       "      <td>1928</td>\n",
       "    </tr>\n",
       "    <tr>\n",
       "      <th>old_page</th>\n",
       "      <td>145274</td>\n",
       "      <td>145274</td>\n",
       "      <td>145274</td>\n",
       "    </tr>\n",
       "    <tr>\n",
       "      <th rowspan=\"2\" valign=\"top\">treatment</th>\n",
       "      <th>new_page</th>\n",
       "      <td>145311</td>\n",
       "      <td>145311</td>\n",
       "      <td>145311</td>\n",
       "    </tr>\n",
       "    <tr>\n",
       "      <th>old_page</th>\n",
       "      <td>1965</td>\n",
       "      <td>1965</td>\n",
       "      <td>1965</td>\n",
       "    </tr>\n",
       "  </tbody>\n",
       "</table>\n",
       "</div>"
      ],
      "text/plain": [
       "                        user_id  timestamp  converted\n",
       "group     landing_page                               \n",
       "control   new_page         1928       1928       1928\n",
       "          old_page       145274     145274     145274\n",
       "treatment new_page       145311     145311     145311\n",
       "          old_page         1965       1965       1965"
      ]
     },
     "execution_count": 9,
     "metadata": {},
     "output_type": "execute_result"
    }
   ],
   "source": [
    "df.groupby(['group','landing_page']).count()"
   ]
  },
  {
   "cell_type": "code",
   "execution_count": 10,
   "id": "1c64e57e",
   "metadata": {
    "execution": {
     "iopub.execute_input": "2022-11-16T10:11:31.179360Z",
     "iopub.status.busy": "2022-11-16T10:11:31.178960Z",
     "iopub.status.idle": "2022-11-16T10:11:31.223219Z",
     "shell.execute_reply": "2022-11-16T10:11:31.221467Z"
    },
    "papermill": {
     "duration": 0.056319,
     "end_time": "2022-11-16T10:11:31.226009",
     "exception": false,
     "start_time": "2022-11-16T10:11:31.169690",
     "status": "completed"
    },
    "tags": []
   },
   "outputs": [
    {
     "name": "stdout",
     "output_type": "stream",
     "text": [
      "Соотношение размеров тестовой и контрольной групп: 1.0005027105609978\n",
      "Вероятность, что новый пользователь будет направлен на версию со старым дизайном: 0.5001256460584492\n",
      "Вероятность, что новый пользователь будет направлен на версию с новым дизайном: 0.49987435394155083\n"
     ]
    }
   ],
   "source": [
    "#объём тестовой группы\n",
    "n_rows_treat = len(df[df['group'] == 'treatment'])\n",
    "\n",
    "#объём контрольной группы\n",
    "n_rows_contr = n_rows - n_rows_treat\n",
    "\n",
    "print(f'Соотношение размеров тестовой и контрольной групп: {n_rows_treat / n_rows_contr}')\n",
    "print(f'Вероятность, что новый пользователь будет направлен на версию со старым дизайном: {n_rows_treat / n_rows}')\n",
    "print(f'Вероятность, что новый пользователь будет направлен на версию с новым дизайном: {n_rows_contr / n_rows}')"
   ]
  },
  {
   "cell_type": "code",
   "execution_count": 11,
   "id": "67f7bd6d",
   "metadata": {
    "execution": {
     "iopub.execute_input": "2022-11-16T10:11:31.243296Z",
     "iopub.status.busy": "2022-11-16T10:11:31.242854Z",
     "iopub.status.idle": "2022-11-16T10:11:31.361375Z",
     "shell.execute_reply": "2022-11-16T10:11:31.360043Z"
    },
    "papermill": {
     "duration": 0.130163,
     "end_time": "2022-11-16T10:11:31.364138",
     "exception": false,
     "start_time": "2022-11-16T10:11:31.233975",
     "status": "completed"
    },
    "tags": []
   },
   "outputs": [],
   "source": [
    "df_cleaned = df.loc[(df['group'] == 'control') & (df['landing_page'] == 'old_page') | (df['group'] == 'treatment') & (df['landing_page'] == 'new_page') ]"
   ]
  },
  {
   "cell_type": "code",
   "execution_count": 12,
   "id": "52dc8956",
   "metadata": {
    "execution": {
     "iopub.execute_input": "2022-11-16T10:11:31.380878Z",
     "iopub.status.busy": "2022-11-16T10:11:31.380409Z",
     "iopub.status.idle": "2022-11-16T10:11:31.490504Z",
     "shell.execute_reply": "2022-11-16T10:11:31.489209Z"
    },
    "papermill": {
     "duration": 0.121511,
     "end_time": "2022-11-16T10:11:31.493123",
     "exception": false,
     "start_time": "2022-11-16T10:11:31.371612",
     "status": "completed"
    },
    "tags": []
   },
   "outputs": [
    {
     "data": {
      "text/html": [
       "<div>\n",
       "<style scoped>\n",
       "    .dataframe tbody tr th:only-of-type {\n",
       "        vertical-align: middle;\n",
       "    }\n",
       "\n",
       "    .dataframe tbody tr th {\n",
       "        vertical-align: top;\n",
       "    }\n",
       "\n",
       "    .dataframe thead th {\n",
       "        text-align: right;\n",
       "    }\n",
       "</style>\n",
       "<table border=\"1\" class=\"dataframe\">\n",
       "  <thead>\n",
       "    <tr style=\"text-align: right;\">\n",
       "      <th></th>\n",
       "      <th></th>\n",
       "      <th>user_id</th>\n",
       "      <th>timestamp</th>\n",
       "      <th>converted</th>\n",
       "    </tr>\n",
       "    <tr>\n",
       "      <th>group</th>\n",
       "      <th>landing_page</th>\n",
       "      <th></th>\n",
       "      <th></th>\n",
       "      <th></th>\n",
       "    </tr>\n",
       "  </thead>\n",
       "  <tbody>\n",
       "    <tr>\n",
       "      <th>control</th>\n",
       "      <th>old_page</th>\n",
       "      <td>145274</td>\n",
       "      <td>145274</td>\n",
       "      <td>145274</td>\n",
       "    </tr>\n",
       "    <tr>\n",
       "      <th>treatment</th>\n",
       "      <th>new_page</th>\n",
       "      <td>145311</td>\n",
       "      <td>145311</td>\n",
       "      <td>145311</td>\n",
       "    </tr>\n",
       "  </tbody>\n",
       "</table>\n",
       "</div>"
      ],
      "text/plain": [
       "                        user_id  timestamp  converted\n",
       "group     landing_page                               \n",
       "control   old_page       145274     145274     145274\n",
       "treatment new_page       145311     145311     145311"
      ]
     },
     "execution_count": 12,
     "metadata": {},
     "output_type": "execute_result"
    }
   ],
   "source": [
    "df_cleaned.groupby(['group','landing_page']).count()"
   ]
  },
  {
   "cell_type": "code",
   "execution_count": 13,
   "id": "45877fa5",
   "metadata": {
    "execution": {
     "iopub.execute_input": "2022-11-16T10:11:31.510516Z",
     "iopub.status.busy": "2022-11-16T10:11:31.510059Z",
     "iopub.status.idle": "2022-11-16T10:11:31.524741Z",
     "shell.execute_reply": "2022-11-16T10:11:31.523582Z"
    },
    "papermill": {
     "duration": 0.026185,
     "end_time": "2022-11-16T10:11:31.527460",
     "exception": false,
     "start_time": "2022-11-16T10:11:31.501275",
     "status": "completed"
    },
    "tags": []
   },
   "outputs": [
    {
     "data": {
      "text/plain": [
       "1"
      ]
     },
     "execution_count": 13,
     "metadata": {},
     "output_type": "execute_result"
    }
   ],
   "source": [
    "# проводим проверку на дублирование\n",
    "df_cleaned['user_id'].duplicated().sum()"
   ]
  },
  {
   "cell_type": "code",
   "execution_count": 14,
   "id": "2ddaa64b",
   "metadata": {
    "execution": {
     "iopub.execute_input": "2022-11-16T10:11:31.544527Z",
     "iopub.status.busy": "2022-11-16T10:11:31.544100Z",
     "iopub.status.idle": "2022-11-16T10:11:31.591502Z",
     "shell.execute_reply": "2022-11-16T10:11:31.590441Z"
    },
    "papermill": {
     "duration": 0.059025,
     "end_time": "2022-11-16T10:11:31.594166",
     "exception": false,
     "start_time": "2022-11-16T10:11:31.535141",
     "status": "completed"
    },
    "tags": []
   },
   "outputs": [
    {
     "data": {
      "text/plain": [
       "1899    773192\n",
       "2893    773192\n",
       "Name: user_id, dtype: int64"
      ]
     },
     "execution_count": 14,
     "metadata": {},
     "output_type": "execute_result"
    }
   ],
   "source": [
    "# проверяем дубликаты user_id \n",
    "df_cleaned[df_cleaned.duplicated(['user_id'],keep=False)]['user_id']"
   ]
  },
  {
   "cell_type": "code",
   "execution_count": 15,
   "id": "65508548",
   "metadata": {
    "execution": {
     "iopub.execute_input": "2022-11-16T10:11:31.611631Z",
     "iopub.status.busy": "2022-11-16T10:11:31.611150Z",
     "iopub.status.idle": "2022-11-16T10:11:31.625132Z",
     "shell.execute_reply": "2022-11-16T10:11:31.624005Z"
    },
    "papermill": {
     "duration": 0.02567,
     "end_time": "2022-11-16T10:11:31.627747",
     "exception": false,
     "start_time": "2022-11-16T10:11:31.602077",
     "status": "completed"
    },
    "tags": []
   },
   "outputs": [
    {
     "data": {
      "text/html": [
       "<div>\n",
       "<style scoped>\n",
       "    .dataframe tbody tr th:only-of-type {\n",
       "        vertical-align: middle;\n",
       "    }\n",
       "\n",
       "    .dataframe tbody tr th {\n",
       "        vertical-align: top;\n",
       "    }\n",
       "\n",
       "    .dataframe thead th {\n",
       "        text-align: right;\n",
       "    }\n",
       "</style>\n",
       "<table border=\"1\" class=\"dataframe\">\n",
       "  <thead>\n",
       "    <tr style=\"text-align: right;\">\n",
       "      <th></th>\n",
       "      <th>user_id</th>\n",
       "      <th>timestamp</th>\n",
       "      <th>group</th>\n",
       "      <th>landing_page</th>\n",
       "      <th>converted</th>\n",
       "    </tr>\n",
       "  </thead>\n",
       "  <tbody>\n",
       "    <tr>\n",
       "      <th>1899</th>\n",
       "      <td>773192</td>\n",
       "      <td>2017-01-09 05:37:58.781806</td>\n",
       "      <td>treatment</td>\n",
       "      <td>new_page</td>\n",
       "      <td>0</td>\n",
       "    </tr>\n",
       "    <tr>\n",
       "      <th>2893</th>\n",
       "      <td>773192</td>\n",
       "      <td>2017-01-14 02:55:59.590927</td>\n",
       "      <td>treatment</td>\n",
       "      <td>new_page</td>\n",
       "      <td>0</td>\n",
       "    </tr>\n",
       "  </tbody>\n",
       "</table>\n",
       "</div>"
      ],
      "text/plain": [
       "      user_id                   timestamp      group landing_page  converted\n",
       "1899   773192  2017-01-09 05:37:58.781806  treatment     new_page          0\n",
       "2893   773192  2017-01-14 02:55:59.590927  treatment     new_page          0"
      ]
     },
     "execution_count": 15,
     "metadata": {},
     "output_type": "execute_result"
    }
   ],
   "source": [
    "df[df['user_id'] == 773192]"
   ]
  },
  {
   "cell_type": "code",
   "execution_count": 16,
   "id": "d572f36d",
   "metadata": {
    "execution": {
     "iopub.execute_input": "2022-11-16T10:11:31.645389Z",
     "iopub.status.busy": "2022-11-16T10:11:31.644974Z",
     "iopub.status.idle": "2022-11-16T10:11:31.720507Z",
     "shell.execute_reply": "2022-11-16T10:11:31.719530Z"
    },
    "papermill": {
     "duration": 0.087287,
     "end_time": "2022-11-16T10:11:31.723139",
     "exception": false,
     "start_time": "2022-11-16T10:11:31.635852",
     "status": "completed"
    },
    "tags": []
   },
   "outputs": [
    {
     "data": {
      "text/plain": [
       "0"
      ]
     },
     "execution_count": 16,
     "metadata": {},
     "output_type": "execute_result"
    }
   ],
   "source": [
    "df_cleaned = df.drop_duplicates(subset='user_id', keep=\"first\")\n",
    "df_cleaned['user_id'].duplicated().sum()"
   ]
  },
  {
   "cell_type": "markdown",
   "id": "d5bb7c52",
   "metadata": {
    "papermill": {
     "duration": 0.007938,
     "end_time": "2022-11-16T10:11:31.739264",
     "exception": false,
     "start_time": "2022-11-16T10:11:31.731326",
     "status": "completed"
    },
    "tags": []
   },
   "source": [
    "### Exploratory Data Analysis"
   ]
  },
  {
   "cell_type": "code",
   "execution_count": 17,
   "id": "f1119f8e",
   "metadata": {
    "execution": {
     "iopub.execute_input": "2022-11-16T10:11:31.757428Z",
     "iopub.status.busy": "2022-11-16T10:11:31.756501Z",
     "iopub.status.idle": "2022-11-16T10:11:32.141389Z",
     "shell.execute_reply": "2022-11-16T10:11:32.140042Z"
    },
    "papermill": {
     "duration": 0.39683,
     "end_time": "2022-11-16T10:11:32.144147",
     "exception": false,
     "start_time": "2022-11-16T10:11:31.747317",
     "status": "completed"
    },
    "tags": []
   },
   "outputs": [
    {
     "data": {
      "text/plain": [
       "<AxesSubplot:xlabel='group,landing_page,converted'>"
      ]
     },
     "execution_count": 17,
     "metadata": {},
     "output_type": "execute_result"
    },
    {
     "data": {
      "image/png": "[encoded data removed]",
      "text/plain": [
       "<Figure size 432x288 with 1 Axes>"
      ]
     },
     "metadata": {
      "needs_background": "light"
     },
     "output_type": "display_data"
    }
   ],
   "source": [
    "groups = df_cleaned.groupby(['group','landing_page','converted']).size()\n",
    "groups.plot.bar()"
   ]
  },
  {
   "cell_type": "code",
   "execution_count": 18,
   "id": "903c118a",
   "metadata": {
    "execution": {
     "iopub.execute_input": "2022-11-16T10:11:32.163261Z",
     "iopub.status.busy": "2022-11-16T10:11:32.162789Z",
     "iopub.status.idle": "2022-11-16T10:11:32.299763Z",
     "shell.execute_reply": "2022-11-16T10:11:32.297899Z"
    },
    "papermill": {
     "duration": 0.151936,
     "end_time": "2022-11-16T10:11:32.304960",
     "exception": false,
     "start_time": "2022-11-16T10:11:32.153024",
     "status": "completed"
    },
    "tags": []
   },
   "outputs": [
    {
     "data": {
      "text/plain": [
       "<AxesSubplot:ylabel='landing_page'>"
      ]
     },
     "execution_count": 18,
     "metadata": {},
     "output_type": "execute_result"
    },
    {
     "data": {
      "image/png": "[encoded data removed]",
      "text/plain": [
       "<Figure size 432x288 with 1 Axes>"
      ]
     },
     "metadata": {},
     "output_type": "display_data"
    }
   ],
   "source": [
    "df['landing_page'].value_counts().plot.pie()"
   ]
  },
  {
   "cell_type": "markdown",
   "id": "071aa4ec",
   "metadata": {
    "papermill": {
     "duration": 0.021741,
     "end_time": "2022-11-16T10:11:32.349101",
     "exception": false,
     "start_time": "2022-11-16T10:11:32.327360",
     "status": "completed"
    },
    "tags": []
   },
   "source": [
    "### Подготовка данных"
   ]
  },
  {
   "cell_type": "code",
   "execution_count": 19,
   "id": "d0a4c8d7",
   "metadata": {
    "execution": {
     "iopub.execute_input": "2022-11-16T10:11:32.387388Z",
     "iopub.status.busy": "2022-11-16T10:11:32.386985Z",
     "iopub.status.idle": "2022-11-16T10:11:32.465517Z",
     "shell.execute_reply": "2022-11-16T10:11:32.464344Z"
    },
    "papermill": {
     "duration": 0.096711,
     "end_time": "2022-11-16T10:11:32.468334",
     "exception": false,
     "start_time": "2022-11-16T10:11:32.371623",
     "status": "completed"
    },
    "tags": []
   },
   "outputs": [],
   "source": [
    "# 1) Split groups into two separate DataFrames\n",
    "a = df[df['group'] == 'control']\n",
    "b = df[df['group'] == 'treatment']\n",
    "\n",
    "# 2) A-click, A-noclick, B-click, B-noclick\n",
    "a_click = a.converted.sum()\n",
    "a_noclick = a.converted.size - b.converted.sum()\n",
    "b_click = b.converted.sum()\n",
    "b_noclick = b.converted.size - b.converted.sum()\n",
    "\n",
    "# 3) Create np array\n",
    "T = np.array([[a_click, a_noclick], [b_click, b_noclick]])"
   ]
  },
  {
   "cell_type": "markdown",
   "id": "0e363e75",
   "metadata": {
    "papermill": {
     "duration": 0.008467,
     "end_time": "2022-11-16T10:11:32.485717",
     "exception": false,
     "start_time": "2022-11-16T10:11:32.477250",
     "status": "completed"
    },
    "tags": []
   },
   "source": [
    "### Chi-Squared Test"
   ]
  },
  {
   "cell_type": "code",
   "execution_count": 20,
   "id": "3fbc025a",
   "metadata": {
    "execution": {
     "iopub.execute_input": "2022-11-16T10:11:32.505840Z",
     "iopub.status.busy": "2022-11-16T10:11:32.505157Z",
     "iopub.status.idle": "2022-11-16T10:11:32.513108Z",
     "shell.execute_reply": "2022-11-16T10:11:32.511858Z"
    },
    "papermill": {
     "duration": 0.021036,
     "end_time": "2022-11-16T10:11:32.515665",
     "exception": false,
     "start_time": "2022-11-16T10:11:32.494629",
     "status": "completed"
    },
    "tags": []
   },
   "outputs": [
    {
     "name": "stdout",
     "output_type": "stream",
     "text": [
      "0.2735425174354186\n"
     ]
    }
   ],
   "source": [
    "import scipy\n",
    "from scipy import stats\n",
    "\n",
    "print(scipy.stats.chi2_contingency(T,correction=False)[1])"
   ]
  },
  {
   "cell_type": "code",
   "execution_count": 21,
   "id": "5c2e4c4e",
   "metadata": {
    "execution": {
     "iopub.execute_input": "2022-11-16T10:11:32.535169Z",
     "iopub.status.busy": "2022-11-16T10:11:32.534750Z",
     "iopub.status.idle": "2022-11-16T10:11:32.541320Z",
     "shell.execute_reply": "2022-11-16T10:11:32.539971Z"
    },
    "papermill": {
     "duration": 0.019197,
     "end_time": "2022-11-16T10:11:32.543813",
     "exception": false,
     "start_time": "2022-11-16T10:11:32.524616",
     "status": "completed"
    },
    "tags": []
   },
   "outputs": [
    {
     "name": "stdout",
     "output_type": "stream",
     "text": [
      "0.12022847684365481 0.11891957956489856\n"
     ]
    }
   ],
   "source": [
    "a_CTR = a_click / (a_click + a_noclick)\n",
    "b_CTR = b_click / (b_click + b_noclick)\n",
    "print(a_CTR, b_CTR)"
   ]
  }
 ],
 "metadata": {
  "kernelspec": {
   "display_name": "Python 3",
   "language": "python",
   "name": "python3"
  },
  "language_info": {
   "codemirror_mode": {
    "name": "ipython",
    "version": 3
   },
   "file_extension": ".py",
   "mimetype": "text/x-python",
   "name": "python",
   "nbconvert_exporter": "python",
   "pygments_lexer": "ipython3",
   "version": "3.7.12"
  },
  "papermill": {
   "default_parameters": {},
   "duration": 14.830385,
   "end_time": "2022-11-16T10:11:33.375896",
   "environment_variables": {},
   "exception": null,
   "input_path": "__notebook__.ipynb",
   "output_path": "__notebook__.ipynb",
   "parameters": {},
   "start_time": "2022-11-16T10:11:18.545511",
   "version": "2.3.4"
  }
 },
 "nbformat": 4,
 "nbformat_minor": 5
}
