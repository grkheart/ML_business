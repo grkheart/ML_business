{
 "cells": [
  {
   "cell_type": "code",
   "execution_count": 1,
   "id": "2cad5fb4",
   "metadata": {
    "_cell_guid": "b1076dfc-b9ad-4769-8c92-a6c4dae69d19",
    "_uuid": "8f2839f25d086af736a60e9eeb907d3b93b6e0e5",
    "execution": {
     "iopub.execute_input": "2022-10-14T08:36:05.047143Z",
     "iopub.status.busy": "2022-10-14T08:36:05.046282Z",
     "iopub.status.idle": "2022-10-14T08:36:05.073599Z",
     "shell.execute_reply": "2022-10-14T08:36:05.072654Z"
    },
    "papermill": {
     "duration": 0.037484,
     "end_time": "2022-10-14T08:36:05.076642",
     "exception": false,
     "start_time": "2022-10-14T08:36:05.039158",
     "status": "completed"
    },
    "tags": []
   },
   "outputs": [
    {
     "name": "stdout",
     "output_type": "stream",
     "text": [
      "/kaggle/input/users-churn/users_churn.csv\n",
      "/kaggle/input/article-data/users_articles.csv\n",
      "/kaggle/input/article-data/articles_idf.csv\n",
      "/kaggle/input/stopwords/stopwords.txt\n",
      "/kaggle/input/articles/materials.csv\n"
     ]
    }
   ],
   "source": [
    "# This Python 3 environment comes with many helpful analytics libraries installed\n",
    "# It is defined by the kaggle/python Docker image: https://github.com/kaggle/docker-python\n",
    "# For example, here's several helpful packages to load\n",
    "\n",
    "import numpy as np # linear algebra\n",
    "import pandas as pd # data processing, CSV file I/O (e.g. pd.read_csv)\n",
    "\n",
    "# Input data files are available in the read-only \"../input/\" directory\n",
    "# For example, running this (by clicking run or pressing Shift+Enter) will list all files under the input directory\n",
    "\n",
    "import os\n",
    "for dirname, _, filenames in os.walk('/kaggle/input'):\n",
    "    for filename in filenames:\n",
    "        print(os.path.join(dirname, filename))\n",
    "\n",
    "# You can write up to 20GB to the current directory (/kaggle/working/) that gets preserved as output when you create a version using \"Save & Run All\" \n",
    "# You can also write temporary files to /kaggle/temp/, but they won't be saved outside of the current session"
   ]
  },
  {
   "cell_type": "code",
   "execution_count": 2,
   "id": "11b0032d",
   "metadata": {
    "execution": {
     "iopub.execute_input": "2022-10-14T08:36:05.088369Z",
     "iopub.status.busy": "2022-10-14T08:36:05.087572Z",
     "iopub.status.idle": "2022-10-14T08:36:16.063245Z",
     "shell.execute_reply": "2022-10-14T08:36:16.062146Z"
    },
    "papermill": {
     "duration": 10.983589,
     "end_time": "2022-10-14T08:36:16.065985",
     "exception": false,
     "start_time": "2022-10-14T08:36:05.082396",
     "status": "completed"
    },
    "tags": []
   },
   "outputs": [
    {
     "name": "stdout",
     "output_type": "stream",
     "text": [
      "Collecting razdel\r\n",
      "  Downloading razdel-0.5.0-py3-none-any.whl (21 kB)\r\n",
      "Installing collected packages: razdel\r\n",
      "Successfully installed razdel-0.5.0\r\n",
      "\u001b[33mWARNING: Running pip as the 'root' user can result in broken permissions and conflicting behaviour with the system package manager. It is recommended to use a virtual environment instead: https://pip.pypa.io/warnings/venv\u001b[0m\u001b[33m\r\n",
      "\u001b[0m"
     ]
    }
   ],
   "source": [
    "!pip install razdel"
   ]
  },
  {
   "cell_type": "code",
   "execution_count": 3,
   "id": "164b5d56",
   "metadata": {
    "execution": {
     "iopub.execute_input": "2022-10-14T08:36:16.076653Z",
     "iopub.status.busy": "2022-10-14T08:36:16.076334Z",
     "iopub.status.idle": "2022-10-14T08:36:27.579225Z",
     "shell.execute_reply": "2022-10-14T08:36:27.578040Z"
    },
    "papermill": {
     "duration": 11.511094,
     "end_time": "2022-10-14T08:36:27.581791",
     "exception": false,
     "start_time": "2022-10-14T08:36:16.070697",
     "status": "completed"
    },
    "tags": []
   },
   "outputs": [
    {
     "name": "stdout",
     "output_type": "stream",
     "text": [
      "Collecting pymorphy2\r\n",
      "  Downloading pymorphy2-0.9.1-py3-none-any.whl (55 kB)\r\n",
      "\u001b[2K     \u001b[90m━━━━━━━━━━━━━━━━━━━━━━━━━━━━━━━━━━━━━━━\u001b[0m \u001b[32m55.5/55.5 kB\u001b[0m \u001b[31m458.7 kB/s\u001b[0m eta \u001b[36m0:00:00\u001b[0m\r\n",
      "\u001b[?25hCollecting pymorphy2-dicts-ru<3.0,>=2.4\r\n",
      "  Downloading pymorphy2_dicts_ru-2.4.417127.4579844-py2.py3-none-any.whl (8.2 MB)\r\n",
      "\u001b[2K     \u001b[90m━━━━━━━━━━━━━━━━━━━━━━━━━━━━━━━━━━━━━━━━\u001b[0m \u001b[32m8.2/8.2 MB\u001b[0m \u001b[31m13.2 MB/s\u001b[0m eta \u001b[36m0:00:00\u001b[0m\r\n",
      "\u001b[?25hRequirement already satisfied: docopt>=0.6 in /opt/conda/lib/python3.7/site-packages (from pymorphy2) (0.6.2)\r\n",
      "Collecting dawg-python>=0.7.1\r\n",
      "  Downloading DAWG_Python-0.7.2-py2.py3-none-any.whl (11 kB)\r\n",
      "Installing collected packages: pymorphy2-dicts-ru, dawg-python, pymorphy2\r\n",
      "Successfully installed dawg-python-0.7.2 pymorphy2-0.9.1 pymorphy2-dicts-ru-2.4.417127.4579844\r\n",
      "\u001b[33mWARNING: Running pip as the 'root' user can result in broken permissions and conflicting behaviour with the system package manager. It is recommended to use a virtual environment instead: https://pip.pypa.io/warnings/venv\u001b[0m\u001b[33m\r\n",
      "\u001b[0m"
     ]
    }
   ],
   "source": [
    "!pip install pymorphy2"
   ]
  },
  {
   "cell_type": "code",
   "execution_count": 4,
   "id": "1eb82cdc",
   "metadata": {
    "execution": {
     "iopub.execute_input": "2022-10-14T08:36:27.595871Z",
     "iopub.status.busy": "2022-10-14T08:36:27.594858Z",
     "iopub.status.idle": "2022-10-14T08:36:36.822511Z",
     "shell.execute_reply": "2022-10-14T08:36:36.821332Z"
    },
    "papermill": {
     "duration": 9.237174,
     "end_time": "2022-10-14T08:36:36.825029",
     "exception": false,
     "start_time": "2022-10-14T08:36:27.587855",
     "status": "completed"
    },
    "tags": []
   },
   "outputs": [
    {
     "name": "stdout",
     "output_type": "stream",
     "text": [
      "Requirement already satisfied: pyLDAvis in /opt/conda/lib/python3.7/site-packages (3.2.2)\r\n",
      "Requirement already satisfied: pandas>=0.17.0 in /opt/conda/lib/python3.7/site-packages (from pyLDAvis) (1.3.5)\r\n",
      "Requirement already satisfied: funcy in /opt/conda/lib/python3.7/site-packages (from pyLDAvis) (1.17)\r\n",
      "Requirement already satisfied: future in /opt/conda/lib/python3.7/site-packages (from pyLDAvis) (0.18.2)\r\n",
      "Requirement already satisfied: wheel>=0.23.0 in /opt/conda/lib/python3.7/site-packages (from pyLDAvis) (0.37.1)\r\n",
      "Requirement already satisfied: numpy>=1.9.2 in /opt/conda/lib/python3.7/site-packages (from pyLDAvis) (1.21.6)\r\n",
      "Requirement already satisfied: joblib>=0.8.4 in /opt/conda/lib/python3.7/site-packages (from pyLDAvis) (1.0.1)\r\n",
      "Requirement already satisfied: jinja2>=2.7.2 in /opt/conda/lib/python3.7/site-packages (from pyLDAvis) (3.1.2)\r\n",
      "Requirement already satisfied: scipy>=0.18.0 in /opt/conda/lib/python3.7/site-packages (from pyLDAvis) (1.7.3)\r\n",
      "Requirement already satisfied: numexpr in /opt/conda/lib/python3.7/site-packages (from pyLDAvis) (2.8.3)\r\n",
      "Requirement already satisfied: MarkupSafe>=2.0 in /opt/conda/lib/python3.7/site-packages (from jinja2>=2.7.2->pyLDAvis) (2.1.1)\r\n",
      "Requirement already satisfied: python-dateutil>=2.7.3 in /opt/conda/lib/python3.7/site-packages (from pandas>=0.17.0->pyLDAvis) (2.8.2)\r\n",
      "Requirement already satisfied: pytz>=2017.3 in /opt/conda/lib/python3.7/site-packages (from pandas>=0.17.0->pyLDAvis) (2022.1)\r\n",
      "Requirement already satisfied: packaging in /opt/conda/lib/python3.7/site-packages (from numexpr->pyLDAvis) (21.3)\r\n",
      "Requirement already satisfied: six>=1.5 in /opt/conda/lib/python3.7/site-packages (from python-dateutil>=2.7.3->pandas>=0.17.0->pyLDAvis) (1.15.0)\r\n",
      "Requirement already satisfied: pyparsing!=3.0.5,>=2.0.2 in /opt/conda/lib/python3.7/site-packages (from packaging->numexpr->pyLDAvis) (3.0.9)\r\n",
      "\u001b[33mWARNING: Running pip as the 'root' user can result in broken permissions and conflicting behaviour with the system package manager. It is recommended to use a virtual environment instead: https://pip.pypa.io/warnings/venv\u001b[0m\u001b[33m\r\n",
      "\u001b[0m"
     ]
    }
   ],
   "source": [
    "!pip install pyLDAvis"
   ]
  },
  {
   "cell_type": "code",
   "execution_count": 5,
   "id": "88279de6",
   "metadata": {
    "execution": {
     "iopub.execute_input": "2022-10-14T08:36:36.838755Z",
     "iopub.status.busy": "2022-10-14T08:36:36.838388Z",
     "iopub.status.idle": "2022-10-14T08:36:38.394696Z",
     "shell.execute_reply": "2022-10-14T08:36:38.393770Z"
    },
    "papermill": {
     "duration": 1.565822,
     "end_time": "2022-10-14T08:36:38.397025",
     "exception": false,
     "start_time": "2022-10-14T08:36:36.831203",
     "status": "completed"
    },
    "tags": []
   },
   "outputs": [],
   "source": [
    "import pandas as pd\n",
    "from gensim.corpora.dictionary import Dictionary\n",
    "import re\n",
    "import numpy as np\n",
    "from nltk.corpus import stopwords\n",
    "from razdel import tokenize\n",
    "import pymorphy2\n",
    "from gensim.models import LdaModel\n",
    "from gensim.test.utils import datapath\n",
    "from sklearn.linear_model import LogisticRegression\n",
    "from sklearn.model_selection import train_test_split\n",
    "from sklearn.metrics import f1_score, roc_auc_score, precision_score, precision_recall_curve\n",
    "import itertools\n",
    "\n",
    "import warnings\n",
    "warnings.filterwarnings('ignore')"
   ]
  },
  {
   "cell_type": "code",
   "execution_count": 6,
   "id": "13af9198",
   "metadata": {
    "execution": {
     "iopub.execute_input": "2022-10-14T08:36:38.410241Z",
     "iopub.status.busy": "2022-10-14T08:36:38.409962Z",
     "iopub.status.idle": "2022-10-14T08:36:41.593805Z",
     "shell.execute_reply": "2022-10-14T08:36:41.592550Z"
    },
    "papermill": {
     "duration": 3.193557,
     "end_time": "2022-10-14T08:36:41.596821",
     "exception": false,
     "start_time": "2022-10-14T08:36:38.403264",
     "status": "completed"
    },
    "tags": []
   },
   "outputs": [],
   "source": [
    "news = pd.read_csv('../input/articles/materials.csv')\n",
    "users = pd.read_csv('../input/article-data/users_articles.csv')"
   ]
  },
  {
   "cell_type": "code",
   "execution_count": null,
   "id": "c50d9b17",
   "metadata": {
    "papermill": {
     "duration": 0.009331,
     "end_time": "2022-10-14T08:36:41.618975",
     "exception": false,
     "start_time": "2022-10-14T08:36:41.609644",
     "status": "completed"
    },
    "tags": []
   },
   "outputs": [],
   "source": []
  },
  {
   "cell_type": "code",
   "execution_count": 7,
   "id": "7edbe004",
   "metadata": {
    "execution": {
     "iopub.execute_input": "2022-10-14T08:36:41.638541Z",
     "iopub.status.busy": "2022-10-14T08:36:41.638068Z",
     "iopub.status.idle": "2022-10-14T08:36:41.970844Z",
     "shell.execute_reply": "2022-10-14T08:36:41.969811Z"
    },
    "papermill": {
     "duration": 0.346045,
     "end_time": "2022-10-14T08:36:41.973740",
     "exception": false,
     "start_time": "2022-10-14T08:36:41.627695",
     "status": "completed"
    },
    "tags": []
   },
   "outputs": [],
   "source": [
    "stopword_ru = stopwords.words('russian')\n",
    "morph = pymorphy2.MorphAnalyzer()\n",
    "\n",
    "with open('../input/stopwords/stopwords.txt') as f:\n",
    "    additional_stopwords = [w.strip() for w in f.readlines() if w]\n",
    "    \n",
    "stopword_ru += additional_stopwords"
   ]
  },
  {
   "cell_type": "code",
   "execution_count": 8,
   "id": "e1447ff8",
   "metadata": {
    "execution": {
     "iopub.execute_input": "2022-10-14T08:36:41.992984Z",
     "iopub.status.busy": "2022-10-14T08:36:41.992645Z",
     "iopub.status.idle": "2022-10-14T08:36:42.007832Z",
     "shell.execute_reply": "2022-10-14T08:36:42.007006Z"
    },
    "papermill": {
     "duration": 0.027674,
     "end_time": "2022-10-14T08:36:42.010392",
     "exception": false,
     "start_time": "2022-10-14T08:36:41.982718",
     "status": "completed"
    },
    "tags": []
   },
   "outputs": [],
   "source": [
    "def clean_text(text):\n",
    "    '''\n",
    "    очистка текста\n",
    "    \n",
    "    на выходе очищеный текст\n",
    "    '''\n",
    "    if not isinstance(text, str):\n",
    "        text = str(text)\n",
    "    \n",
    "    text = text.lower()\n",
    "    text = text.strip('\\n').strip('\\r').strip('\\t')\n",
    "    text = re.sub(\"-\\s\\r\\n\\|-\\s\\r\\n|\\r\\n\", '', str(text))\n",
    "\n",
    "    text = re.sub(\"[0-9]|[-—.,:;_%©«»?*!@#№$^•·&()]|[+=]|[[]|[]]|[/]|\", '', text)\n",
    "    text = re.sub(r\"\\r\\n\\t|\\n|\\\\s|\\r\\t|\\\\n\", ' ', text)\n",
    "    text = re.sub(r'[\\xad]|[\\s+]', ' ', text.strip())\n",
    "\n",
    "    return text\n",
    "\n",
    "cache = {}\n",
    "\n",
    "def lemmatization(text):\n",
    "    '''\n",
    "    лемматизация\n",
    "        [0] если зашел тип не `str` делаем его `str`\n",
    "        [1] токенизация предложения через razdel\n",
    "        [2] проверка есть ли в начале слова '-'\n",
    "        [3] проверка токена с одного символа\n",
    "        [4] проверка есть ли данное слово в кэше\n",
    "        [5] лемматизация слова\n",
    "        [6] проверка на стоп-слова\n",
    "\n",
    "    на выходе лист отлемматизированых токенов\n",
    "    '''\n",
    "\n",
    "    # [0]\n",
    "    if not isinstance(text, str):\n",
    "        text = str(text)\n",
    "    \n",
    "    # [1]\n",
    "    tokens = list(tokenize(text))\n",
    "    words = [_.text for _ in tokens]\n",
    "\n",
    "    words_lem = []\n",
    "    for w in words:\n",
    "        if w[0] == '-': # [2]\n",
    "            w = w[1:]\n",
    "        if len(w)>1: # [3]\n",
    "            if w in cache: # [4]\n",
    "                words_lem.append(cache[w])\n",
    "            else: # [5]\n",
    "                temp_cach = cache[w] = morph.parse(w)[0].normal_form\n",
    "                words_lem.append(temp_cach)\n",
    "    \n",
    "    words_lem_without_stopwords=[i for i in words_lem if not i in stopword_ru] # [6]\n",
    "    \n",
    "    return words_lem_without_stopwords"
   ]
  },
  {
   "cell_type": "code",
   "execution_count": 9,
   "id": "0acd6e46",
   "metadata": {
    "execution": {
     "iopub.execute_input": "2022-10-14T08:36:42.029827Z",
     "iopub.status.busy": "2022-10-14T08:36:42.029501Z",
     "iopub.status.idle": "2022-10-14T08:42:10.432511Z",
     "shell.execute_reply": "2022-10-14T08:42:10.431333Z"
    },
    "papermill": {
     "duration": 328.415578,
     "end_time": "2022-10-14T08:42:10.435206",
     "exception": false,
     "start_time": "2022-10-14T08:36:42.019628",
     "status": "completed"
    },
    "tags": []
   },
   "outputs": [],
   "source": [
    "news['title'] = news['title'].apply(lambda x: clean_text(x), 1)\n",
    "news['title'] = news['title'].apply(lambda x: lemmatization(x), 1)\n",
    "texts = [t for t in news['title'].values]\n",
    "common_dictionary = Dictionary(texts)\n",
    "common_corpus = [common_dictionary.doc2bow(text) for text in texts]\n",
    "lda = LdaModel(common_corpus, num_topics=25, id2word=common_dictionary)\n",
    "temp_file = datapath(\"model.lda\")\n",
    "lda.save(temp_file)\n",
    "lda = LdaModel.load(temp_file)\n",
    "other_texts = [t for t in news['title'].iloc[:3]]\n",
    "other_corpus = [common_dictionary.doc2bow(text) for text in other_texts]\n",
    "unseen_doc = other_corpus[2]\n",
    "x=lda.show_topics(num_topics=25, num_words=7,formatted=False)\n",
    "topics_words = [(tp[0], [wd[0] for wd in tp[1]]) for tp in x]"
   ]
  },
  {
   "cell_type": "code",
   "execution_count": 10,
   "id": "594d1cb8",
   "metadata": {
    "execution": {
     "iopub.execute_input": "2022-10-14T08:42:10.450573Z",
     "iopub.status.busy": "2022-10-14T08:42:10.448799Z",
     "iopub.status.idle": "2022-10-14T08:42:10.465137Z",
     "shell.execute_reply": "2022-10-14T08:42:10.462822Z"
    },
    "papermill": {
     "duration": 0.027064,
     "end_time": "2022-10-14T08:42:10.468734",
     "exception": false,
     "start_time": "2022-10-14T08:42:10.441670",
     "status": "completed"
    },
    "tags": []
   },
   "outputs": [],
   "source": [
    "def do_aggf(aggf):\n",
    "    def get_lda_vector(text):\n",
    "        unseen_doc = common_dictionary.doc2bow(text)\n",
    "        lda_tuple = lda[unseen_doc]\n",
    "        not_null_topics = dict(zip([i[0] for i in lda_tuple], [i[1] for i in lda_tuple]))\n",
    "        num_topics = 25\n",
    "\n",
    "        output_vector = []\n",
    "\n",
    "        for i in range(num_topics):\n",
    "            if i not in not_null_topics:\n",
    "                output_vector.append(0)\n",
    "            else:\n",
    "                output_vector.append(not_null_topics[i])\n",
    "        return np.array(output_vector)\n",
    "    \n",
    "    num_topics = 25\n",
    "    topic_matrix = pd.DataFrame([get_lda_vector(text) for text in news['title'].values])\n",
    "    topic_matrix.columns = ['topic_{}'.format(i) for i in range(num_topics)]\n",
    "    topic_matrix['doc_id'] = news['doc_id'].values\n",
    "    topic_matrix = topic_matrix[['doc_id']+['topic_{}'.format(i) for i in range(num_topics)]]\n",
    "    doc_dict = dict(zip(topic_matrix['doc_id'].values, topic_matrix[['topic_{}'.format(i) for i in range(num_topics)]].values))\n",
    "    \n",
    "    def get_user_embedding(user_articles_list):\n",
    "        user_articles_list = eval(user_articles_list)\n",
    "        user_vector = np.array([doc_dict[doc_id] for doc_id in user_articles_list])\n",
    "        user_vector = aggf(user_vector, 0)\n",
    "        return user_vector\n",
    "\n",
    "    user_embeddings = pd.DataFrame([i for i in users['articles'].apply(lambda x: get_user_embedding(x), 1)])\n",
    "    user_embeddings.columns = ['topic_{}'.format(i) for i in range(num_topics)]\n",
    "    user_embeddings['uid'] = users['uid'].values\n",
    "    user_embeddings = user_embeddings[['uid']+['topic_{}'.format(i) for i in range(num_topics)]]\n",
    "    \n",
    "    target = pd.read_csv('../input/users-churn/users_churn.csv')\n",
    "    X = pd.merge(user_embeddings, target, 'left')\n",
    "\n",
    "    X_train, X_test, y_train, y_test = train_test_split(X[['topic_{}'.format(i) for i in range(num_topics)]], \n",
    "                                                        X['churn'], random_state=0)\n",
    "    \n",
    "    logreg = LogisticRegression()\n",
    "    logreg.fit(X_train, y_train)\n",
    "\n",
    "    preds = logreg.predict_proba(X_test)[:, 1]\n",
    "\n",
    "    precision, recall, thresholds = precision_recall_curve(y_test, preds)\n",
    "    fscore = (2 * precision * recall) / (precision + recall)\n",
    "    ix = np.argmax(fscore)\n",
    "    \n",
    "    return thresholds[ix], fscore[ix], precision[ix], recall[ix], roc_auc_score(y_test, preds)"
   ]
  },
  {
   "cell_type": "code",
   "execution_count": 11,
   "id": "2ffd5668",
   "metadata": {
    "execution": {
     "iopub.execute_input": "2022-10-14T08:42:10.481626Z",
     "iopub.status.busy": "2022-10-14T08:42:10.481340Z",
     "iopub.status.idle": "2022-10-14T08:42:10.485549Z",
     "shell.execute_reply": "2022-10-14T08:42:10.484650Z"
    },
    "papermill": {
     "duration": 0.012943,
     "end_time": "2022-10-14T08:42:10.487550",
     "exception": false,
     "start_time": "2022-10-14T08:42:10.474607",
     "status": "completed"
    },
    "tags": []
   },
   "outputs": [],
   "source": [
    "metrics_names = ['F-Score', 'Precision', 'Recall', 'Roc_Auc_Score']"
   ]
  },
  {
   "cell_type": "code",
   "execution_count": 12,
   "id": "7b3a80fb",
   "metadata": {
    "execution": {
     "iopub.execute_input": "2022-10-14T08:42:10.500317Z",
     "iopub.status.busy": "2022-10-14T08:42:10.499576Z",
     "iopub.status.idle": "2022-10-14T08:43:36.665714Z",
     "shell.execute_reply": "2022-10-14T08:43:36.656647Z"
    },
    "papermill": {
     "duration": 86.184282,
     "end_time": "2022-10-14T08:43:36.677445",
     "exception": false,
     "start_time": "2022-10-14T08:42:10.493163",
     "status": "completed"
    },
    "tags": []
   },
   "outputs": [
    {
     "name": "stdout",
     "output_type": "stream",
     "text": [
      "Best Threshold = 0.22327\n",
      "F-Score = 0.67606\n",
      "Precision = 0.59443\n",
      "Recall = 0.78367\n",
      "Roc_Auc_Score = 0.94273\n"
     ]
    }
   ],
   "source": [
    "metrics_results_mean = []\n",
    "\n",
    "for i in do_aggf(np.mean)[1:]:\n",
    "    metrics_results_mean.append(i)\n",
    "\n",
    "print(f'Best Threshold = {round(do_aggf(np.mean)[0], 5)}')\n",
    "\n",
    "for result, name in zip(metrics_results_mean, metrics_names):\n",
    "    print(f'{name} = {round(result, 5)}')"
   ]
  },
  {
   "cell_type": "markdown",
   "id": "9b47a610",
   "metadata": {
    "papermill": {
     "duration": 0.013939,
     "end_time": "2022-10-14T08:43:36.705886",
     "exception": false,
     "start_time": "2022-10-14T08:43:36.691947",
     "status": "completed"
    },
    "tags": []
   },
   "source": [
    "### Задание №2"
   ]
  },
  {
   "cell_type": "code",
   "execution_count": 13,
   "id": "3229f646",
   "metadata": {
    "execution": {
     "iopub.execute_input": "2022-10-14T08:43:36.736492Z",
     "iopub.status.busy": "2022-10-14T08:43:36.735964Z",
     "iopub.status.idle": "2022-10-14T08:45:03.998727Z",
     "shell.execute_reply": "2022-10-14T08:45:03.997727Z"
    },
    "papermill": {
     "duration": 87.298065,
     "end_time": "2022-10-14T08:45:04.018486",
     "exception": false,
     "start_time": "2022-10-14T08:43:36.720421",
     "status": "completed"
    },
    "tags": []
   },
   "outputs": [
    {
     "name": "stdout",
     "output_type": "stream",
     "text": [
      "Best Threshold = 0.23466\n",
      "F-Score = 0.73381\n",
      "Precision = 0.65595\n",
      "Recall = 0.83265\n",
      "Roc_Auc_Score = 0.96653\n"
     ]
    }
   ],
   "source": [
    "# Используем медиану\n",
    "\n",
    "metrics_results_median = []\n",
    "\n",
    "for i in do_aggf(np.median)[1:]:\n",
    "    metrics_results_median.append(i)\n",
    "\n",
    "print(f'Best Threshold = {round(do_aggf(np.median)[0], 5)}')\n",
    "\n",
    "for result, name in zip(metrics_results_median, metrics_names):\n",
    "    print(f'{name} = {round(result, 5)}')"
   ]
  },
  {
   "cell_type": "markdown",
   "id": "55c87e4c",
   "metadata": {
    "papermill": {
     "duration": 0.014245,
     "end_time": "2022-10-14T08:45:04.047628",
     "exception": false,
     "start_time": "2022-10-14T08:45:04.033383",
     "status": "completed"
    },
    "tags": []
   },
   "source": [
    "###  Задание №3"
   ]
  },
  {
   "cell_type": "code",
   "execution_count": 14,
   "id": "8f873690",
   "metadata": {
    "execution": {
     "iopub.execute_input": "2022-10-14T08:45:04.078780Z",
     "iopub.status.busy": "2022-10-14T08:45:04.078106Z",
     "iopub.status.idle": "2022-10-14T08:46:30.629736Z",
     "shell.execute_reply": "2022-10-14T08:46:30.628383Z"
    },
    "papermill": {
     "duration": 86.581257,
     "end_time": "2022-10-14T08:46:30.643516",
     "exception": false,
     "start_time": "2022-10-14T08:45:04.062259",
     "status": "completed"
    },
    "tags": []
   },
   "outputs": [
    {
     "name": "stdout",
     "output_type": "stream",
     "text": [
      "Best Threshold = 0.37444\n",
      "F-Score = 0.8008\n",
      "Precision = 0.78968\n",
      "Recall = 0.81224\n",
      "Roc_Auc_Score = 0.97615\n"
     ]
    }
   ],
   "source": [
    "# Используем максимум\n",
    "\n",
    "metrics_results_max = []\n",
    "\n",
    "for i in do_aggf(np.max)[1:]:\n",
    "    metrics_results_max.append(i)\n",
    "\n",
    "print(f'Best Threshold = {round(do_aggf(np.max)[0], 5)}')\n",
    "\n",
    "for result, name in zip(metrics_results_max, metrics_names):\n",
    "    print(f'{name} = {round(result, 5)}')"
   ]
  },
  {
   "cell_type": "markdown",
   "id": "1b72bb0b",
   "metadata": {
    "papermill": {
     "duration": 0.014393,
     "end_time": "2022-10-14T08:46:30.672732",
     "exception": false,
     "start_time": "2022-10-14T08:46:30.658339",
     "status": "completed"
    },
    "tags": []
   },
   "source": [
    "### Задание №5"
   ]
  },
  {
   "cell_type": "code",
   "execution_count": 15,
   "id": "3c14271b",
   "metadata": {
    "execution": {
     "iopub.execute_input": "2022-10-14T08:46:30.704240Z",
     "iopub.status.busy": "2022-10-14T08:46:30.703606Z",
     "iopub.status.idle": "2022-10-14T08:46:30.729931Z",
     "shell.execute_reply": "2022-10-14T08:46:30.728992Z"
    },
    "papermill": {
     "duration": 0.045396,
     "end_time": "2022-10-14T08:46:30.732990",
     "exception": false,
     "start_time": "2022-10-14T08:46:30.687594",
     "status": "completed"
    },
    "tags": []
   },
   "outputs": [
    {
     "data": {
      "text/html": [
       "<div>\n",
       "<style scoped>\n",
       "    .dataframe tbody tr th:only-of-type {\n",
       "        vertical-align: middle;\n",
       "    }\n",
       "\n",
       "    .dataframe tbody tr th {\n",
       "        vertical-align: top;\n",
       "    }\n",
       "\n",
       "    .dataframe thead th {\n",
       "        text-align: right;\n",
       "    }\n",
       "</style>\n",
       "<table border=\"1\" class=\"dataframe\">\n",
       "  <thead>\n",
       "    <tr style=\"text-align: right;\">\n",
       "      <th></th>\n",
       "      <th>Metrics</th>\n",
       "      <th>Mean</th>\n",
       "      <th>Median</th>\n",
       "      <th>Max</th>\n",
       "    </tr>\n",
       "  </thead>\n",
       "  <tbody>\n",
       "    <tr>\n",
       "      <th>0</th>\n",
       "      <td>F-Score</td>\n",
       "      <td>0.676056</td>\n",
       "      <td>0.733813</td>\n",
       "      <td>0.800805</td>\n",
       "    </tr>\n",
       "    <tr>\n",
       "      <th>1</th>\n",
       "      <td>Precision</td>\n",
       "      <td>0.594427</td>\n",
       "      <td>0.655949</td>\n",
       "      <td>0.789683</td>\n",
       "    </tr>\n",
       "    <tr>\n",
       "      <th>2</th>\n",
       "      <td>Recall</td>\n",
       "      <td>0.783673</td>\n",
       "      <td>0.832653</td>\n",
       "      <td>0.812245</td>\n",
       "    </tr>\n",
       "    <tr>\n",
       "      <th>3</th>\n",
       "      <td>Roc_Auc_Score</td>\n",
       "      <td>0.942732</td>\n",
       "      <td>0.966531</td>\n",
       "      <td>0.976150</td>\n",
       "    </tr>\n",
       "  </tbody>\n",
       "</table>\n",
       "</div>"
      ],
      "text/plain": [
       "         Metrics      Mean    Median       Max\n",
       "0        F-Score  0.676056  0.733813  0.800805\n",
       "1      Precision  0.594427  0.655949  0.789683\n",
       "2         Recall  0.783673  0.832653  0.812245\n",
       "3  Roc_Auc_Score  0.942732  0.966531  0.976150"
      ]
     },
     "execution_count": 15,
     "metadata": {},
     "output_type": "execute_result"
    }
   ],
   "source": [
    "summary = pd.DataFrame(data = {'Metrics': metrics_names,\n",
    "                               'Mean': metrics_results_mean,\n",
    "                               'Median': metrics_results_median,\n",
    "                               'Max': metrics_results_max})\n",
    "summary"
   ]
  },
  {
   "cell_type": "markdown",
   "id": "387b96dc",
   "metadata": {
    "papermill": {
     "duration": 0.005801,
     "end_time": "2022-10-14T08:46:30.748555",
     "exception": false,
     "start_time": "2022-10-14T08:46:30.742754",
     "status": "completed"
    },
    "tags": []
   },
   "source": [
    "### Задание №6\n",
    "\n",
    "\n",
    "Используя максимум, мы получаем более высокие результаты. Метрики про расчёте среднего выглядят хуже всего. Используя медиану, мы получаем довольно сбалансированные и близкие друг к другу значения, у максимума разброс чуть больше. У максимума сильно выделяется Recall на фоне остальных. Если в задаче бизнеса стоит максимизировать Recall, то неплохо использовать максимум для расчёта."
   ]
  }
 ],
 "metadata": {
  "kernelspec": {
   "display_name": "Python 3",
   "language": "python",
   "name": "python3"
  },
  "language_info": {
   "codemirror_mode": {
    "name": "ipython",
    "version": 3
   },
   "file_extension": ".py",
   "mimetype": "text/x-python",
   "name": "python",
   "nbconvert_exporter": "python",
   "pygments_lexer": "ipython3",
   "version": "3.7.12"
  },
  "papermill": {
   "default_parameters": {},
   "duration": 634.443029,
   "end_time": "2022-10-14T08:46:32.077329",
   "environment_variables": {},
   "exception": null,
   "input_path": "__notebook__.ipynb",
   "output_path": "__notebook__.ipynb",
   "parameters": {},
   "start_time": "2022-10-14T08:35:57.634300",
   "version": "2.3.4"
  }
 },
 "nbformat": 4,
 "nbformat_minor": 5
}
